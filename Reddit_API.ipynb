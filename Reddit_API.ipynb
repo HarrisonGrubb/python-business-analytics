{
  "nbformat": 4,
  "nbformat_minor": 0,
  "metadata": {
    "colab": {
      "name": "Reddit API",
      "provenance": [],
      "collapsed_sections": [
        "qdiiLUnI5MZH",
        "VyMzm9dQ5aWV",
        "-9bhQSbM5hdA",
        "GqD79dNF5ypJ"
      ],
      "toc_visible": true,
      "authorship_tag": "ABX9TyNwZ3PGjY1bPmIgT0mUGcYs",
      "include_colab_link": true
    },
    "kernelspec": {
      "name": "python3",
      "display_name": "Python 3"
    }
  },
  "cells": [
    {
      "cell_type": "markdown",
      "metadata": {
        "id": "view-in-github",
        "colab_type": "text"
      },
      "source": [
        "<a href=\"https://colab.research.google.com/github/HarrisonGrubb/python-business-analytics/blob/master/Reddit_API.ipynb\" target=\"_parent\"><img src=\"https://colab.research.google.com/assets/colab-badge.svg\" alt=\"Open In Colab\"/></a>"
      ]
    },
    {
      "cell_type": "markdown",
      "metadata": {
        "id": "qdiiLUnI5MZH"
      },
      "source": [
        "# Getting Started\n",
        "\n",
        "Reading in the needed packages and setting up the project."
      ]
    },
    {
      "cell_type": "code",
      "metadata": {
        "id": "ZLiGvEsoVWoM"
      },
      "source": [
        "%%capture\n",
        "!pip install praw\n",
        "!pip install PyDrive\n",
        "!pip install gensim\n",
        "!pip install pyldavis\n",
        "!pip install spacy"
      ],
      "execution_count": null,
      "outputs": []
    },
    {
      "cell_type": "code",
      "metadata": {
        "id": "gQLKRJWrVdDe",
        "colab": {
          "base_uri": "https://localhost:8080/",
          "height": 100
        },
        "outputId": "466faed8-1c23-47be-8c59-6cacc57df5dd"
      },
      "source": [
        "import praw\n",
        "import pandas as pd\n",
        "import numpy as np\n",
        "import seaborn as sns\n",
        "from sklearn.preprocessing import MultiLabelBinarizer\n",
        "import numpy as np\n",
        "import nltk\n",
        "from nltk import bigrams\n",
        "import itertools\n",
        "import pandas as pd\n",
        "from google.colab import drive\n",
        "import time\n",
        "import os\n",
        "import nltk\n",
        "from nltk import FreqDist\n",
        "import json\n",
        "import re\n",
        "import gzip\n",
        "import spacy\n",
        "import gensim\n",
        "from gensim import corpora\n",
        "import pyLDAvis\n",
        "import pyLDAvis.gensim\n",
        "import matplotlib.pyplot as plt\n",
        "import seaborn as sns\n",
        "from nltk.corpus import stopwords\n",
        "%matplotlib inline\n",
        "nltk.download('stopwords')\n",
        "drive.mount('/content/drive')"
      ],
      "execution_count": null,
      "outputs": [
        {
          "output_type": "stream",
          "text": [
            "/usr/local/lib/python3.6/dist-packages/statsmodels/tools/_testing.py:19: FutureWarning: pandas.util.testing is deprecated. Use the functions in the public API at pandas.testing instead.\n",
            "  import pandas.util.testing as tm\n"
          ],
          "name": "stderr"
        },
        {
          "output_type": "stream",
          "text": [
            "[nltk_data] Downloading package stopwords to /root/nltk_data...\n",
            "[nltk_data]   Unzipping corpora/stopwords.zip.\n",
            "Mounted at /content/drive\n"
          ],
          "name": "stdout"
        }
      ]
    },
    {
      "cell_type": "code",
      "metadata": {
        "id": "zL1p4BOfItVt"
      },
      "source": [
        "reddit = praw.Reddit(client_id=\"******\",\n",
        "                     client_secret=\"******\",\n",
        "                     user_agent=\"******\",\n",
        "                     username=\"******\",\n",
        "                     password=\"*******\")\n"
      ],
      "execution_count": null,
      "outputs": []
    },
    {
      "cell_type": "code",
      "metadata": {
        "id": "9oWty03DKfZ4"
      },
      "source": [
        "reddit.read_only = True"
      ],
      "execution_count": null,
      "outputs": []
    },
    {
      "cell_type": "code",
      "metadata": {
        "id": "MDxVgiIqWMaS"
      },
      "source": [
        "url = \"https://www.reddit.com/r/wallstreetbets/comments/iqr5ay/the_real_small_shopify_lspd_first_trading_day/\"\n",
        "car_url = \"https://www.reddit.com/r/cars/comments/isivb9/weekly_what_car_should_i_buy_megathread/\"\n",
        "\n",
        "car_url_list_1 = [\"https://www.reddit.com/r/cars/comments/io5k86/weekly_what_car_should_i_buy_megathread/\",\n",
        "                \"https://www.reddit.com/r/cars/comments/isivb9/weekly_what_car_should_i_buy_megathread/\",\n",
        "                \"https://www.reddit.com/r/cars/comments/ijw16f/weekly_what_car_should_i_buy_megathread/\",\n",
        "                \"https://www.reddit.com/r/cars/comments/ifmz8m/weekly_what_car_should_i_buy_megathread/\",\n",
        "                \"https://www.reddit.com/r/cars/comments/ibc5m8/weekly_what_car_should_i_buy_megathread/\",\n",
        "                \"https://www.reddit.com/r/cars/comments/i2v5a9/weekly_what_car_should_i_buy_megathread/\",\n",
        "                \"https://www.reddit.com/r/cars/comments/i72v2h/weekly_what_car_should_i_buy_megathread/\",\n",
        "                \"https://www.reddit.com/r/cars/comments/hyqby2/weekly_what_car_should_i_buy_megathread/\",\n",
        "                \"https://www.reddit.com/r/cars/comments/hqdehp/weekly_what_car_should_i_buy_megathread/\",\n",
        "                \"https://www.reddit.com/r/cars/comments/hujg9l/weekly_what_car_should_i_buy_megathread/\",\n",
        "                \"https://www.reddit.com/r/cars/comments/hm5puf/weekly_what_car_should_i_buy_megathread/\",\n",
        "                \"https://www.reddit.com/r/cars/comments/hdqg0v/weekly_what_car_should_i_buy_megathread/\",\n",
        "                \"https://www.reddit.com/r/cars/comments/hhxylc/weekly_what_car_should_i_buy_megathread/\",\n",
        "                \"https://www.reddit.com/r/cars/comments/gyxed5/weekly_what_car_should_i_buy_megathread/\",\n",
        "                \"https://www.reddit.com/r/cars/comments/gq96qj/weekly_what_car_should_i_buy_megathread/\",\n",
        "                \"https://www.reddit.com/r/cars/comments/guir6l/weekly_what_car_should_i_buy_megathread/\",\n",
        "                \"https://www.reddit.com/r/cars/comments/guir6l/weekly_what_car_should_i_buy_megathread/\",\n",
        "                \"https://www.reddit.com/r/cars/comments/gq96qj/weekly_what_car_should_i_buy_megathread/\",\n",
        "                \"https://www.reddit.com/r/cars/comments/glzi7z/weekly_what_car_should_i_buy_megathread/\",\n",
        "                'https://www.reddit.com/r/cars/comments/8eanyj/weekly_what_car_should_i_buy_megathread/',\n",
        "                'https://www.reddit.com/r/cars/comments/8fyopa/weekly_what_car_should_i_buy_megathread/',\n",
        "                'https://www.reddit.com/r/cars/comments/8ogg6z/weekly_what_car_should_i_buy_megathread/',\n",
        "                'https://www.reddit.com/r/cars/comments/8hmpcx/weekly_what_car_should_i_buy_megathread/',\n",
        "                'https://www.reddit.com/r/cars/comments/8jbff6/weekly_what_car_should_i_buy_megathread/',\n",
        "                'https://www.reddit.com/r/cars/comments/8tpo10/weekly_what_car_should_i_buy_megathread/']\n",
        "\n",
        "car_url_list_2 = [\n",
        "                'https://www.reddit.com/r/cars/comments/8l00uc/weekly_what_car_should_i_buy_megathread/',\n",
        "                'https://www.reddit.com/r/cars/comments/8q8pof/weekly_what_car_should_i_buy_megathread/',\n",
        "                'https://www.reddit.com/r/cars/comments/8ryp5n/weekly_what_car_should_i_buy_megathread/',\n",
        "                'https://www.reddit.com/r/cars/comments/950emi/weekly_what_car_should_i_buy_megathread/',\n",
        "                'https://www.reddit.com/r/cars/comments/8vhtoe/weekly_what_car_should_i_buy_megathread/',\n",
        "                'https://www.reddit.com/r/cars/comments/8xam8p/weekly_what_car_should_i_buy_megathread/',\n",
        "                'https://www.reddit.com/r/cars/comments/9em4rw/weekly_what_car_should_i_buy_megathread/',\n",
        "                'https://www.reddit.com/r/cars/comments/9ckn14/weekly_what_car_should_i_buy_megathread/',\n",
        "                'https://www.reddit.com/r/cars/comments/8za1s3/weekly_what_car_should_i_buy_megathread/',\n",
        "                'https://www.reddit.com/r/cars/comments/96xfvm/weekly_what_car_should_i_buy_megathread/',\n",
        "                'https://www.reddit.com/r/cars/comments/98sp0x/weekly_what_car_should_i_buy_megathread/',\n",
        "                'https://www.reddit.com/r/cars/comments/9336o0/weekly_what_car_should_i_buy_megathread/',\n",
        "                'https://www.reddit.com/r/cars/comments/9165l0/weekly_what_car_should_i_buy_megathread/',\n",
        "                'https://www.reddit.com/r/cars/comments/9mdye5/weekly_what_car_should_i_buy_megathread/',\n",
        "                'https://www.reddit.com/r/cars/comments/9ih1da/weekly_what_car_should_i_buy_megathread/',\n",
        "                'https://www.reddit.com/r/cars/comments/9uco61/weekly_what_car_should_i_buy_megathread/',\n",
        "                'https://www.reddit.com/r/cars/comments/9kffcy/weekly_what_car_should_i_buy_megathread/',\n",
        "                'https://www.reddit.com/r/cars/comments/9gjem2/weekly_what_car_should_i_buy_megathread/',\n",
        "                'https://www.reddit.com/r/cars/comments/9sc5ik/weekly_what_car_should_i_buy_megathread/',\n",
        "                'https://www.reddit.com/r/cars/comments/a6yxti/weekly_what_car_should_i_buy_megathread/',\n",
        "                'https://www.reddit.com/r/cars/comments/ab699r/weekly_what_car_should_i_buy_megathread/',\n",
        "                'https://www.reddit.com/r/cars/comments/9yfvdx/weekly_what_car_should_i_buy_megathread/',\n",
        "                'https://www.reddit.com/r/cars/comments/a4usor/weekly_what_car_should_i_buy_megathread/',\n",
        "                'https://www.reddit.com/r/cars/comments/a946bv/weekly_what_car_should_i_buy_megathread/']\n",
        "\n",
        "car_url_list_3 = [\n",
        "                'https://www.reddit.com/r/cars/comments/a2nqla/weekly_what_car_should_i_buy_megathread/',\n",
        "                'https://www.reddit.com/r/cars/comments/a0iggg/weekly_what_car_should_i_buy_megathread/',\n",
        "                'https://www.reddit.com/r/cars/comments/adgqw3/weekly_what_car_should_i_buy_megathread/',\n",
        "                'https://www.reddit.com/r/cars/comments/ai96i7/weekly_what_car_should_i_buy_megathread/',\n",
        "                'https://www.reddit.com/r/cars/comments/an0p6g/weekly_what_car_should_i_buy_megathread/',\n",
        "                'https://www.reddit.com/r/cars/comments/akmht8/weekly_what_car_should_i_buy_megathread/',\n",
        "                'https://www.reddit.com/r/cars/comments/arw7l6/weekly_what_car_should_i_buy_megathread/',\n",
        "                'https://www.reddit.com/r/cars/comments/ax5znc/weekly_what_car_should_i_buy_megathread/',\n",
        "                'https://www.reddit.com/r/cars/comments/auk4r1/weekly_what_car_should_i_buy_megathread/',\n",
        "                'https://www.reddit.com/r/cars/comments/b2hfqw/weekly_what_car_should_i_buy_megathread/',\n",
        "                'https://www.reddit.com/r/cars/comments/basi5c/weekly_what_car_should_i_buy_megathread/',\n",
        "                'https://www.reddit.com/r/cars/comments/b59clf/weekly_what_car_should_i_buy_megathread/',\n",
        "                'https://www.reddit.com/r/cars/comments/bg0u70/weekly_what_car_should_i_buy_megathread/',\n",
        "                'https://www.reddit.com/r/cars/comments/bio8w0/weekly_what_car_should_i_buy_megathread/',\n",
        "                'https://www.reddit.com/r/cars/comments/blat20/weekly_what_car_should_i_buy_megathread/',\n",
        "                'https://www.reddit.com/r/cars/comments/bdeqk7/weekly_what_car_should_i_buy_megathread/',\n",
        "                'https://www.reddit.com/r/cars/comments/bqu6ok/weekly_what_car_should_i_buy_megathread/',\n",
        "                'https://www.reddit.com/r/cars/comments/bo24te/weekly_what_car_should_i_buy_megathread/',\n",
        "                'https://www.reddit.com/r/cars/comments/bywl0f/weekly_what_car_should_i_buy_megathread/',\n",
        "                'https://www.reddit.com/r/cars/comments/c1mb15/weekly_what_car_should_i_buy_megathread/']\n",
        "\n",
        "car_url_list_4 = [\n",
        "                  'https://www.reddit.com/r/cars/comments/4tm196/weekly_what_car_should_i_buy_mega_thread/',\n",
        "                  'https://www.reddit.com/r/cars/comments/4wx2pj/weekly_what_car_should_i_buy_mega_thread/',\n",
        "                  'https://www.reddit.com/r/cars/comments/4y0efo/weekly_what_car_should_i_buy_mega_thread/',\n",
        "                  'https://www.reddit.com/r/cars/comments/5xbecn/weekly_what_car_should_i_buy_mega_thread/',\n",
        "                  'https://www.reddit.com/r/cars/comments/4qabur/weekly_what_car_should_i_buy_mega_thread/',\n",
        "                  'https://www.reddit.com/r/cars/comments/4z7cuk/weekly_what_car_should_i_buy_mega_thread/',\n",
        "                  'https://www.reddit.com/r/cars/comments/5kkjpl/weekly_what_car_should_i_buy_mega_thread/',\n",
        "                  'https://www.reddit.com/r/cars/comments/5i4j9b/weekly_what_car_should_i_buy_mega_thread/',\n",
        "                  'https://www.reddit.com/r/cars/comments/5fjlbn/weekly_what_car_should_i_buy_mega_thread/',\n",
        "                  'https://www.reddit.com/r/cars/comments/5wozi0/weekly_what_car_should_i_buy_mega_thread/',\n",
        "                  'https://www.reddit.com/r/cars/comments/5je60t/weekly_what_car_should_i_buy_mega_thread/',\n",
        "                  'https://www.reddit.com/r/cars/comments/65wpvd/weekly_what_car_should_i_buy_mega_thread/',\n",
        "                  'https://www.reddit.com/r/cars/comments/5r97hf/weekly_what_car_should_i_buy_mega_thread/',\n",
        "                  'https://www.reddit.com/r/cars/comments/6e1dcb/weekly_what_car_should_i_buy_mega_thread/',\n",
        "                  'https://www.reddit.com/r/cars/comments/5px2z9/weekly_what_car_should_i_buy_mega_thread/',\n",
        "                  'https://www.reddit.com/r/cars/comments/60hmpd/weekly_what_car_should_i_buy_mega_thread/',\n",
        "                  'https://www.reddit.com/r/cars/comments/6mfozo/weekly_what_car_should_i_buy_mega_thread/',\n",
        "                  'https://www.reddit.com/r/cars/comments/6l12mf/weekly_what_car_should_i_buy_mega_thread/',\n",
        "                  'https://www.reddit.com/r/cars/comments/6cog1m/weekly_what_car_should_i_buy_mega_thread/',\n",
        "                  'https://www.reddit.com/r/cars/comments/637zhk/weekly_what_car_should_i_buy_mega_thread/',\n",
        "                  'https://www.reddit.com/r/cars/comments/5z634n/weekly_what_car_should_i_buy_mega_thread/',\n",
        "                  'https://www.reddit.com/r/cars/comments/5lstyk/weekly_what_car_should_i_buy_mega_thread/',\n",
        "                  'https://www.reddit.com/r/cars/comments/6ffex2/weekly_what_car_should_i_buy_mega_thread/',\n",
        "                  'https://www.reddit.com/r/cars/comments/6i7nx8/weekly_what_car_should_i_buy_mega_thread/',\n",
        "                  'https://www.reddit.com/r/cars/comments/5xu9oe/weekly_what_car_should_i_buy_mega_thread/',\n",
        "                  'https://www.reddit.com/r/cars/comments/69za9z/weekly_what_car_should_i_buy_mega_thread/',\n",
        "                  'https://www.reddit.com/r/cars/comments/68n3wg/weekly_what_car_should_i_buy_mega_thread/',\n",
        "                  'https://www.reddit.com/r/cars/comments/6jmbht/weekly_what_car_should_i_buy_mega_thread/',\n",
        "                  'https://www.reddit.com/r/cars/comments/6bbj1o/weekly_what_car_should_i_buy_mega_thread/',\n",
        "                  'https://www.reddit.com/r/cars/comments/73u0as/weekly_what_car_should_i_buy_mega_thread/',\n",
        "                  'https://www.reddit.com/r/cars/comments/72dq1p/weekly_what_car_should_i_buy_mega_thread/',\n",
        "                  'https://www.reddit.com/r/cars/comments/6qpp27/weekly_what_car_should_i_buy_mega_thread/',\n",
        "                  'https://www.reddit.com/r/cars/comments/5u16yw/weekly_what_car_should_i_buy_mega_thread/',\n",
        "                  'https://www.reddit.com/r/cars/comments/6s6tsp/weekly_what_car_should_i_buy_mega_thread/',\n",
        "                  'https://www.reddit.com/r/cars/comments/5vcg9p/weekly_what_car_should_i_buy_mega_thread/',\n",
        "                  'https://www.reddit.com/r/cars/comments/61tbtm/weekly_what_car_should_i_buy_mega_thread/',\n",
        "                  'https://www.reddit.com/r/cars/comments/5smddg/weekly_what_car_should_i_buy_mega_thread/',\n",
        "                  'https://www.reddit.com/r/cars/comments/6nubd5/weekly_what_car_should_i_buy_mega_thread/',\n",
        "                  'https://www.reddit.com/r/cars/comments/6v47yw/weekly_what_car_should_i_buy_mega_thread/',\n",
        "                  'https://www.reddit.com/r/cars/comments/6zgmym/weekly_what_car_should_i_buy_mega_thread/',\n",
        "                  'https://www.reddit.com/r/cars/comments/75adpd/weekly_what_car_should_i_buy_mega_thread/',\n",
        "                  'https://www.reddit.com/r/cars/comments/75adpd/weekly_what_car_should_i_buy_mega_thread/',\n",
        "                  'https://www.reddit.com/r/cars/comments/6p9nc5/weekly_what_car_should_i_buy_mega_thread/',\n",
        "                  'https://www.reddit.com/r/cars/comments/6tnp91/weekly_what_car_should_i_buy_mega_thread/']"
      ],
      "execution_count": null,
      "outputs": []
    },
    {
      "cell_type": "code",
      "metadata": {
        "id": "NxTl4pFfYAH9"
      },
      "source": [
        "df = pd.DataFrame(columns=['Parent ID', 'Comment ID', 'Score', 'Created', 'Body'])"
      ],
      "execution_count": null,
      "outputs": []
    },
    {
      "cell_type": "code",
      "metadata": {
        "id": "9hBEgK6oYjh4"
      },
      "source": [
        "submission = reddit.submission(url=car_url_list_2[2])\n",
        "comments = submission.comments.replace_more()\n",
        "df_rows = [[comment.parent, comment.id, comment.score, comment.created, comment.body] for comment in comments]\n",
        "temp_df = pd.DataFrame(df_rows, columns=['Parent ID', 'Comment ID', 'Score', 'Created', 'Body'])\n",
        "  "
      ],
      "execution_count": null,
      "outputs": []
    },
    {
      "cell_type": "code",
      "metadata": {
        "id": "y5AbbXekcHGs",
        "colab": {
          "base_uri": "https://localhost:8080/",
          "height": 47
        },
        "outputId": "21ae8ee0-7547-4bfc-9314-3129cf3f65e7"
      },
      "source": [
        "temp_df.head()"
      ],
      "execution_count": null,
      "outputs": [
        {
          "output_type": "execute_result",
          "data": {
            "text/html": [
              "<div>\n",
              "<style scoped>\n",
              "    .dataframe tbody tr th:only-of-type {\n",
              "        vertical-align: middle;\n",
              "    }\n",
              "\n",
              "    .dataframe tbody tr th {\n",
              "        vertical-align: top;\n",
              "    }\n",
              "\n",
              "    .dataframe thead th {\n",
              "        text-align: right;\n",
              "    }\n",
              "</style>\n",
              "<table border=\"1\" class=\"dataframe\">\n",
              "  <thead>\n",
              "    <tr style=\"text-align: right;\">\n",
              "      <th></th>\n",
              "      <th>Parent ID</th>\n",
              "      <th>Comment ID</th>\n",
              "      <th>Score</th>\n",
              "      <th>Created</th>\n",
              "      <th>Body</th>\n",
              "    </tr>\n",
              "  </thead>\n",
              "  <tbody>\n",
              "  </tbody>\n",
              "</table>\n",
              "</div>"
            ],
            "text/plain": [
              "Empty DataFrame\n",
              "Columns: [Parent ID, Comment ID, Score, Created, Body]\n",
              "Index: []"
            ]
          },
          "metadata": {
            "tags": []
          },
          "execution_count": 68
        }
      ]
    },
    {
      "cell_type": "code",
      "metadata": {
        "id": "MrOzonpIYqoJ",
        "colab": {
          "base_uri": "https://localhost:8080/",
          "height": 33
        },
        "outputId": "154a9cbe-fb9f-4884-fbce-e7666567a83c"
      },
      "source": [
        "temp_df.shape"
      ],
      "execution_count": null,
      "outputs": [
        {
          "output_type": "execute_result",
          "data": {
            "text/plain": [
              "(0, 5)"
            ]
          },
          "metadata": {
            "tags": []
          },
          "execution_count": 69
        }
      ]
    },
    {
      "cell_type": "markdown",
      "metadata": {
        "id": "VyMzm9dQ5aWV"
      },
      "source": [
        "# Accumulating Reddit Comments"
      ]
    },
    {
      "cell_type": "code",
      "metadata": {
        "id": "hPc1PXA6PP9b",
        "colab": {
          "base_uri": "https://localhost:8080/",
          "height": 433
        },
        "outputId": "a85694bb-d904-45fc-fd24-a0973a3a5848"
      },
      "source": [
        "loop_count = 0\n",
        "\n",
        "for link in car_url_list_1:\n",
        "  time.sleep(3)\n",
        "  try:\n",
        "    submission = reddit.submission(url=link)\n",
        "    comments = submission.comments\n",
        "    df_rows = [[comment.parent, comment.id, comment.score, comment.created, comment.body] for comment in comments]\n",
        "    temp_df = pd.DataFrame(df_rows, columns=['Parent ID', 'Comment ID', 'Score', 'Created', 'Body'])\n",
        "    df = df.append(temp_df)\n",
        "    df.to_csv('/content/drive/My Drive/Kaggle Contest Data/Car Data/df_save1.csv')\n",
        "    loop_count += 1\n",
        "    print(loop_count)\n",
        "  except:\n",
        "    submission = reddit.submission(url=link)\n",
        "    comments = submission.comments.replace_more(limit=None)\n",
        "    df_rows = [[comment.parent, comment.id, comment.score, comment.created, comment.body] for comment in comments]\n",
        "    temp_df = pd.DataFrame(df_rows, columns=['Parent ID', 'Comment ID', 'Score', 'Created', 'Body'])\n",
        "    df = df.append(temp_df)\n",
        "    df.to_csv('/content/drive/My Drive/Kaggle Contest Data/Car Data/df_save1.csv')\n",
        "    loop_count += 1\n",
        "    print(loop_count)\n"
      ],
      "execution_count": null,
      "outputs": [
        {
          "output_type": "stream",
          "text": [
            "1\n",
            "2\n",
            "3\n",
            "4\n",
            "5\n",
            "6\n",
            "7\n",
            "8\n",
            "9\n",
            "10\n",
            "11\n",
            "12\n",
            "13\n",
            "14\n",
            "15\n",
            "16\n",
            "17\n",
            "18\n",
            "19\n",
            "20\n",
            "21\n",
            "22\n",
            "23\n",
            "24\n",
            "25\n"
          ],
          "name": "stdout"
        }
      ]
    },
    {
      "cell_type": "code",
      "metadata": {
        "id": "BVHDvc2fYDcJ"
      },
      "source": [
        "df = pd.DataFrame(columns=['Parent ID', 'Comment ID', 'Score', 'Created', 'Body'])\n"
      ],
      "execution_count": null,
      "outputs": []
    },
    {
      "cell_type": "code",
      "metadata": {
        "id": "juvGrNoM6IbG",
        "colab": {
          "base_uri": "https://localhost:8080/",
          "height": 416
        },
        "outputId": "cb4d3791-abe0-43b7-ab79-52caae7b5283"
      },
      "source": [
        "# loop_count = 0\n",
        "\n",
        "for link in car_url_list_2:\n",
        "  time.sleep(3)\n",
        "  try:\n",
        "    submission = reddit.submission(url=link)\n",
        "    comments = submission.comments\n",
        "    df_rows = [[comment.parent, comment.id, comment.score, comment.created, comment.body] for comment in comments]\n",
        "    temp_df = pd.DataFrame(df_rows, columns=['Parent ID', 'Comment ID', 'Score', 'Created', 'Body'])\n",
        "    df = df.append(temp_df)\n",
        "    df.to_csv('/content/drive/My Drive/Kaggle Contest Data/Car Data/df_save2.csv')\n",
        "    loop_count += 1\n",
        "    print(loop_count)\n",
        "  except:\n",
        "    submission = reddit.submission(url=link)\n",
        "    comments = submission.comments.replace_more(limit=None)\n",
        "    df_rows = [[comment.parent, comment.id, comment.score, comment.created, comment.body] for comment in comments]\n",
        "    temp_df = pd.DataFrame(df_rows, columns=['Parent ID', 'Comment ID', 'Score', 'Created', 'Body'])\n",
        "    df = df.append(temp_df)\n",
        "    df.to_csv('/content/drive/My Drive/Kaggle Contest Data/Car Data/df_save2.csv')\n",
        "    loop_count += 1\n",
        "    print(loop_count)\n",
        " \n",
        " \n",
        "  # submission = reddit.submission(url=link)\n",
        "  # comments = submission.comments.replace_more(limit=None)\n",
        "  # df_rows = [[comment.parent, comment.id, comment.score, comment.created, comment.body] for comment in comments]\n",
        "  # temp_df = pd.DataFrame(df_rows, columns=['Parent ID', 'Comment ID', 'Score', 'Created', 'Body'])\n",
        "  # df = df.append(temp_df)\n",
        "  # df.to_csv('/content/drive/My Drive/Kaggle Contest Data/Car Data/df_save2.csv')\n",
        "  # loop_count += 1\n",
        "  # print(loop_count)\n",
        "  # time.sleep(3)"
      ],
      "execution_count": null,
      "outputs": [
        {
          "output_type": "stream",
          "text": [
            "26\n",
            "27\n",
            "28\n",
            "29\n",
            "30\n",
            "31\n",
            "32\n",
            "33\n",
            "34\n",
            "35\n",
            "36\n",
            "37\n",
            "38\n",
            "39\n",
            "40\n",
            "41\n",
            "42\n",
            "43\n",
            "44\n",
            "45\n",
            "46\n",
            "47\n",
            "48\n",
            "49\n"
          ],
          "name": "stdout"
        }
      ]
    },
    {
      "cell_type": "code",
      "metadata": {
        "id": "yLv7akXwhE2R"
      },
      "source": [
        "df = pd.DataFrame(columns=['Parent ID', 'Comment ID', 'Score', 'Created', 'Body'])\n"
      ],
      "execution_count": null,
      "outputs": []
    },
    {
      "cell_type": "code",
      "metadata": {
        "id": "4zfoy4oU6SAt",
        "colab": {
          "base_uri": "https://localhost:8080/",
          "height": 350
        },
        "outputId": "04340f16-3c5b-4945-b338-33bd570c6075"
      },
      "source": [
        "loop_count = 0\n",
        "\n",
        "for link in car_url_list_3:\n",
        "  time.sleep(3)\n",
        "  try:\n",
        "    submission = reddit.submission(url=link)\n",
        "    comments = submission.comments\n",
        "    df_rows = [[comment.parent, comment.id, comment.score, comment.created, comment.body] for comment in comments]\n",
        "    temp_df = pd.DataFrame(df_rows, columns=['Parent ID', 'Comment ID', 'Score', 'Created', 'Body'])\n",
        "    df = df.append(temp_df)\n",
        "    df.to_csv('/content/drive/My Drive/Kaggle Contest Data/Car Data/df_save3.csv')\n",
        "    loop_count += 1\n",
        "    print(loop_count)\n",
        "  except:\n",
        "    submission = reddit.submission(url=link)\n",
        "    comments = submission.comments.replace_more(limit=None)\n",
        "    df_rows = [[comment.parent, comment.id, comment.score, comment.created, comment.body] for comment in comments]\n",
        "    temp_df = pd.DataFrame(df_rows, columns=['Parent ID', 'Comment ID', 'Score', 'Created', 'Body'])\n",
        "    df = df.append(temp_df)\n",
        "    df.to_csv('/content/drive/My Drive/Kaggle Contest Data/Car Data/df_save3.csv')\n",
        "    loop_count += 1\n",
        "    print(loop_count)"
      ],
      "execution_count": null,
      "outputs": [
        {
          "output_type": "stream",
          "text": [
            "1\n",
            "2\n",
            "3\n",
            "4\n",
            "5\n",
            "6\n",
            "7\n",
            "8\n",
            "9\n",
            "10\n",
            "11\n",
            "12\n",
            "13\n",
            "14\n",
            "15\n",
            "16\n",
            "17\n",
            "18\n",
            "19\n",
            "20\n"
          ],
          "name": "stdout"
        }
      ]
    },
    {
      "cell_type": "code",
      "metadata": {
        "id": "8xXhsZFfhFyf"
      },
      "source": [
        "df = pd.DataFrame(columns=['Parent ID', 'Comment ID', 'Score', 'Created', 'Body'])\n"
      ],
      "execution_count": null,
      "outputs": []
    },
    {
      "cell_type": "code",
      "metadata": {
        "id": "2dOo1_8QTl1T",
        "colab": {
          "base_uri": "https://localhost:8080/",
          "height": 750
        },
        "outputId": "3e915730-c6f6-47b8-c357-b667183497a5"
      },
      "source": [
        "loop_count = 0\n",
        "\n",
        "for link in car_url_list_4:\n",
        "  time.sleep(3)\n",
        "  try:\n",
        "    submission = reddit.submission(url=link)\n",
        "    comments = submission.comments\n",
        "    df_rows = [[comment.parent, comment.id, comment.score, comment.created, comment.body] for comment in comments]\n",
        "    temp_df = pd.DataFrame(df_rows, columns=['Parent ID', 'Comment ID', 'Score', 'Created', 'Body'])\n",
        "    df = df.append(temp_df)\n",
        "    df.to_csv('/content/drive/My Drive/Kaggle Contest Data/Car Data/df_save4.csv')\n",
        "    loop_count += 1\n",
        "    print(loop_count)\n",
        "  except:\n",
        "    submission = reddit.submission(url=link)\n",
        "    comments = submission.comments.replace_more(limit=None)\n",
        "    df_rows = [[comment.parent, comment.id, comment.score, comment.created, comment.body] for comment in comments]\n",
        "    temp_df = pd.DataFrame(df_rows, columns=['Parent ID', 'Comment ID', 'Score', 'Created', 'Body'])\n",
        "    df = df.append(temp_df)\n",
        "    df.to_csv('/content/drive/My Drive/Kaggle Contest Data/Car Data/df_save4.csv')\n",
        "    loop_count += 1\n",
        "    print(loop_count)"
      ],
      "execution_count": null,
      "outputs": [
        {
          "output_type": "stream",
          "text": [
            "1\n",
            "2\n",
            "3\n",
            "4\n",
            "5\n",
            "6\n",
            "7\n",
            "8\n",
            "9\n",
            "10\n",
            "11\n",
            "12\n",
            "13\n",
            "14\n",
            "15\n",
            "16\n",
            "17\n",
            "18\n",
            "19\n",
            "20\n",
            "21\n",
            "22\n",
            "23\n",
            "24\n",
            "25\n",
            "26\n",
            "27\n",
            "28\n",
            "29\n",
            "30\n",
            "31\n",
            "32\n",
            "33\n",
            "34\n",
            "35\n",
            "36\n",
            "37\n",
            "38\n",
            "39\n",
            "40\n",
            "41\n",
            "42\n",
            "43\n",
            "44\n"
          ],
          "name": "stdout"
        }
      ]
    },
    {
      "cell_type": "markdown",
      "metadata": {
        "id": "-9bhQSbM5hdA"
      },
      "source": [
        "# Reading In Saved Data and cleaning it"
      ]
    },
    {
      "cell_type": "code",
      "metadata": {
        "id": "oHhr6luzrLAn"
      },
      "source": [
        "links_1 = pd.read_csv('/content/drive/My Drive/Kaggle Contest Data/Car Data/df_save1.csv')\n",
        "links_2 = pd.read_csv('/content/drive/My Drive/Kaggle Contest Data/Car Data/df_save2.csv')\n",
        "links_3 = pd.read_csv('/content/drive/My Drive/Kaggle Contest Data/Car Data/df_save3.csv')\n",
        "links_4 = pd.read_csv('/content/drive/My Drive/Kaggle Contest Data/Car Data/df_save4.csv')"
      ],
      "execution_count": null,
      "outputs": []
    },
    {
      "cell_type": "code",
      "metadata": {
        "id": "Puz10kLR8Fyv"
      },
      "source": [
        "df = links_1"
      ],
      "execution_count": null,
      "outputs": []
    },
    {
      "cell_type": "code",
      "metadata": {
        "id": "Vx4ItwFBQIOG"
      },
      "source": [
        "df = df.append(links_2)\n",
        "df = df.append(links_3)\n",
        "df = df.append(links_4)"
      ],
      "execution_count": null,
      "outputs": []
    },
    {
      "cell_type": "code",
      "metadata": {
        "id": "HvLbapxl8TSJ"
      },
      "source": [
        "df2 = df"
      ],
      "execution_count": null,
      "outputs": []
    },
    {
      "cell_type": "code",
      "metadata": {
        "id": "eLCgcABHg7td"
      },
      "source": [
        "df2['Body'] = df2['Body'].str.lower()"
      ],
      "execution_count": null,
      "outputs": []
    },
    {
      "cell_type": "code",
      "metadata": {
        "id": "lHNMXsX3Ud7e",
        "colab": {
          "base_uri": "https://localhost:8080/",
          "height": 33
        },
        "outputId": "29855560-1cf4-4e9f-c76f-4fc7665ac879"
      },
      "source": [
        "df2.shape"
      ],
      "execution_count": null,
      "outputs": [
        {
          "output_type": "execute_result",
          "data": {
            "text/plain": [
              "(9468, 6)"
            ]
          },
          "metadata": {
            "tags": []
          },
          "execution_count": 68
        }
      ]
    },
    {
      "cell_type": "code",
      "metadata": {
        "id": "gp14JMRNYlZw"
      },
      "source": [
        "to_remove = ['>', '*', '\\n', '\\xa0']"
      ],
      "execution_count": null,
      "outputs": []
    },
    {
      "cell_type": "code",
      "metadata": {
        "id": "d9IauwBtoZXn"
      },
      "source": [
        "df2 = df2.dropna(subset=['Body'])"
      ],
      "execution_count": null,
      "outputs": []
    },
    {
      "cell_type": "code",
      "metadata": {
        "id": "9BTOHq7nm2TB"
      },
      "source": [
        "df2.Body = df2.Body.str.replace('>', '')\n",
        "df2.Body = df2.Body.str.replace('*', '')\n",
        "df2.Body = df2.Body.str.replace('\\n', '')\n",
        "df2.Body = df2.Body.str.replace('\\xa0', '')\n",
        "df2.Body = df2.Body.str.replace('!', '')\n",
        "df2.Body = df2.Body.str.replace('hello', '')\n",
        "df2.Body = df2.Body.str.replace('â€¢' , '') \n",
        "df2.Body = df2.Body.str.replace('location -', 'location:')\n",
        "df2.Body = df2.Body.str.replace('range -', 'range:')\n",
        "df2.Body = df2.Body.str.replace('considered -', 'considered:') \n",
        "df2.Body = df2.Body.str.replace('(specify your country or region)', 'location:')"
      ],
      "execution_count": null,
      "outputs": []
    },
    {
      "cell_type": "code",
      "metadata": {
        "id": "YDN2nCEcq5aq",
        "colab": {
          "base_uri": "https://localhost:8080/",
          "height": 497
        },
        "outputId": "7d32358f-7ddc-4c12-80a2-a4dd23d13866"
      },
      "source": [
        "df2.head(15)"
      ],
      "execution_count": null,
      "outputs": [
        {
          "output_type": "execute_result",
          "data": {
            "text/html": [
              "<div>\n",
              "<style scoped>\n",
              "    .dataframe tbody tr th:only-of-type {\n",
              "        vertical-align: middle;\n",
              "    }\n",
              "\n",
              "    .dataframe tbody tr th {\n",
              "        vertical-align: top;\n",
              "    }\n",
              "\n",
              "    .dataframe thead th {\n",
              "        text-align: right;\n",
              "    }\n",
              "</style>\n",
              "<table border=\"1\" class=\"dataframe\">\n",
              "  <thead>\n",
              "    <tr style=\"text-align: right;\">\n",
              "      <th></th>\n",
              "      <th>Unnamed: 0</th>\n",
              "      <th>Parent ID</th>\n",
              "      <th>Comment ID</th>\n",
              "      <th>Score</th>\n",
              "      <th>Created</th>\n",
              "      <th>Body</th>\n",
              "    </tr>\n",
              "  </thead>\n",
              "  <tbody>\n",
              "    <tr>\n",
              "      <th>0</th>\n",
              "      <td>0</td>\n",
              "      <td>&lt;bound method Comment.parent of Comment(id='g4...</td>\n",
              "      <td>g4bttij</td>\n",
              "      <td>6</td>\n",
              "      <td>1.599514e+09</td>\n",
              "      <td>location: western ny - it snows a lotprice ran...</td>\n",
              "    </tr>\n",
              "    <tr>\n",
              "      <th>1</th>\n",
              "      <td>1</td>\n",
              "      <td>&lt;bound method Comment.parent of Comment(id='g4...</td>\n",
              "      <td>g4d6ngv</td>\n",
              "      <td>4</td>\n",
              "      <td>1.599535e+09</td>\n",
              "      <td>location: texas, price range: 30-50k, type: wa...</td>\n",
              "    </tr>\n",
              "    <tr>\n",
              "      <th>2</th>\n",
              "      <td>2</td>\n",
              "      <td>&lt;bound method Comment.parent of Comment(id='g4...</td>\n",
              "      <td>g4qjfh6</td>\n",
              "      <td>4</td>\n",
              "      <td>1.599796e+09</td>\n",
              "      <td>location: southeast usaprice range: max of 25k...</td>\n",
              "    </tr>\n",
              "    <tr>\n",
              "      <th>3</th>\n",
              "      <td>3</td>\n",
              "      <td>&lt;bound method Comment.parent of Comment(id='g4...</td>\n",
              "      <td>g4bwsvs</td>\n",
              "      <td>3</td>\n",
              "      <td>1.599516e+09</td>\n",
              "      <td>location: philadelphia paprice range: $8k - $1...</td>\n",
              "    </tr>\n",
              "    <tr>\n",
              "      <th>4</th>\n",
              "      <td>4</td>\n",
              "      <td>&lt;bound method Comment.parent of Comment(id='g4...</td>\n",
              "      <td>g4i7z8j</td>\n",
              "      <td>3</td>\n",
              "      <td>1.599645e+09</td>\n",
              "      <td>location: new england, us    price range: mont...</td>\n",
              "    </tr>\n",
              "    <tr>\n",
              "      <th>5</th>\n",
              "      <td>5</td>\n",
              "      <td>&lt;bound method Comment.parent of Comment(id='g4...</td>\n",
              "      <td>g4uumh0</td>\n",
              "      <td>3</td>\n",
              "      <td>1.599882e+09</td>\n",
              "      <td>location: northeastern usprice range: $20k max...</td>\n",
              "    </tr>\n",
              "    <tr>\n",
              "      <th>6</th>\n",
              "      <td>6</td>\n",
              "      <td>&lt;bound method Comment.parent of Comment(id='g4...</td>\n",
              "      <td>g4x48ei</td>\n",
              "      <td>3</td>\n",
              "      <td>1.599938e+09</td>\n",
              "      <td>location: southern californiaprice range: both...</td>\n",
              "    </tr>\n",
              "    <tr>\n",
              "      <th>7</th>\n",
              "      <td>7</td>\n",
              "      <td>&lt;bound method Comment.parent of Comment(id='g4...</td>\n",
              "      <td>g4d10th</td>\n",
              "      <td>2</td>\n",
              "      <td>1.599533e+09</td>\n",
              "      <td>how underwater on a loan would you say a perso...</td>\n",
              "    </tr>\n",
              "    <tr>\n",
              "      <th>8</th>\n",
              "      <td>8</td>\n",
              "      <td>&lt;bound method Comment.parent of Comment(id='g4...</td>\n",
              "      <td>g4exlsl</td>\n",
              "      <td>2</td>\n",
              "      <td>1.599571e+09</td>\n",
              "      <td>location: georgia  price range: 0-10k usd  lea...</td>\n",
              "    </tr>\n",
              "    <tr>\n",
              "      <th>9</th>\n",
              "      <td>9</td>\n",
              "      <td>&lt;bound method Comment.parent of Comment(id='g4...</td>\n",
              "      <td>g4hflsu</td>\n",
              "      <td>2</td>\n",
              "      <td>1.599630e+09</td>\n",
              "      <td>location: united states - south west&amp;#x200b;pr...</td>\n",
              "    </tr>\n",
              "    <tr>\n",
              "      <th>10</th>\n",
              "      <td>10</td>\n",
              "      <td>&lt;bound method Comment.parent of Comment(id='g4...</td>\n",
              "      <td>g4iibfy</td>\n",
              "      <td>2</td>\n",
              "      <td>1.599652e+09</td>\n",
              "      <td>location: ohio, us  (looking to move sw)price ...</td>\n",
              "    </tr>\n",
              "    <tr>\n",
              "      <th>11</th>\n",
              "      <td>11</td>\n",
              "      <td>&lt;bound method Comment.parent of Comment(id='g4...</td>\n",
              "      <td>g4k757s</td>\n",
              "      <td>2</td>\n",
              "      <td>1.599698e+09</td>\n",
              "      <td>orlando, fl2000-3500ish buycarusedit’s my firs...</td>\n",
              "    </tr>\n",
              "    <tr>\n",
              "      <th>12</th>\n",
              "      <td>12</td>\n",
              "      <td>&lt;bound method Comment.parent of Comment(id='g4...</td>\n",
              "      <td>g4l43k1</td>\n",
              "      <td>2</td>\n",
              "      <td>1.599714e+09</td>\n",
              "      <td>i'm considering the following car's. i just wa...</td>\n",
              "    </tr>\n",
              "    <tr>\n",
              "      <th>13</th>\n",
              "      <td>13</td>\n",
              "      <td>&lt;bound method Comment.parent of Comment(id='g4...</td>\n",
              "      <td>g4qe217</td>\n",
              "      <td>2</td>\n",
              "      <td>1.599795e+09</td>\n",
              "      <td>location: southeast usa price range: 25k-35k ...</td>\n",
              "    </tr>\n",
              "    <tr>\n",
              "      <th>14</th>\n",
              "      <td>14</td>\n",
              "      <td>&lt;bound method Comment.parent of Comment(id='g4...</td>\n",
              "      <td>g4s9xwi</td>\n",
              "      <td>2</td>\n",
              "      <td>1.599821e+09</td>\n",
              "      <td>location: canada bcprice range: 7kbuyusedtype ...</td>\n",
              "    </tr>\n",
              "  </tbody>\n",
              "</table>\n",
              "</div>"
            ],
            "text/plain": [
              "    Unnamed: 0  ...                                               Body\n",
              "0            0  ...  location: western ny - it snows a lotprice ran...\n",
              "1            1  ...  location: texas, price range: 30-50k, type: wa...\n",
              "2            2  ...  location: southeast usaprice range: max of 25k...\n",
              "3            3  ...  location: philadelphia paprice range: $8k - $1...\n",
              "4            4  ...  location: new england, us    price range: mont...\n",
              "5            5  ...  location: northeastern usprice range: $20k max...\n",
              "6            6  ...  location: southern californiaprice range: both...\n",
              "7            7  ...  how underwater on a loan would you say a perso...\n",
              "8            8  ...  location: georgia  price range: 0-10k usd  lea...\n",
              "9            9  ...  location: united states - south west&#x200b;pr...\n",
              "10          10  ...  location: ohio, us  (looking to move sw)price ...\n",
              "11          11  ...  orlando, fl2000-3500ish buycarusedit’s my firs...\n",
              "12          12  ...  i'm considering the following car's. i just wa...\n",
              "13          13  ...   location: southeast usa price range: 25k-35k ...\n",
              "14          14  ...  location: canada bcprice range: 7kbuyusedtype ...\n",
              "\n",
              "[15 rows x 6 columns]"
            ]
          },
          "metadata": {
            "tags": []
          },
          "execution_count": 72
        }
      ]
    },
    {
      "cell_type": "code",
      "metadata": {
        "id": "JcYERFw1rN3q",
        "colab": {
          "base_uri": "https://localhost:8080/",
          "height": 33
        },
        "outputId": "6ad18934-7362-4e23-853b-7169c090b6b4"
      },
      "source": [
        "range(0,df2.shape[0])"
      ],
      "execution_count": null,
      "outputs": [
        {
          "output_type": "execute_result",
          "data": {
            "text/plain": [
              "range(0, 9468)"
            ]
          },
          "metadata": {
            "tags": []
          },
          "execution_count": 73
        }
      ]
    },
    {
      "cell_type": "code",
      "metadata": {
        "id": "ug3gzTfMQFZp"
      },
      "source": [
        "df2['Location'] = df2['Body'].str.split('location:').str[1]\n",
        "df2['Location'] = df2['Location'].str.split('price').str[0]\n",
        "\n",
        "df2['Price'] = df2['Body'].str.split('range:').str[1]\n",
        "df2['Price'] = df2['Price'].str.split('lease').str[0]\n",
        "\n",
        "df2['buy'] = df2['Body'].str.split('range:').str[1]\n",
        "df2['buy'] = df2['buy'].str.split('lease').str[0]\n",
        "\n",
        "df2['set'] = df2['Body'].str.split('considered:').str[1]\n",
        "df2['set'] = df2['set'].str.split('is').str[0]\n"
      ],
      "execution_count": null,
      "outputs": []
    },
    {
      "cell_type": "code",
      "metadata": {
        "id": "xRPBSzhXcW0j",
        "colab": {
          "base_uri": "https://localhost:8080/",
          "height": 33
        },
        "outputId": "c30f4d62-c86e-4462-c601-006df6dec25b"
      },
      "source": [
        "df2 = df2.dropna(subset=['set'])\n",
        "df2 = df2[~df2['set'].str.contains('n/a')]\n",
        "df2 = df2[~df2['set'].str.contains('none')]\n",
        "df2 = df2[~df2['set'].str.contains('nothing')]\n",
        "df2 = df2[~df2['set'].str.contains('currently')]\n",
        "df2 = df2[~df2['set'].str.contains('i am')]\n",
        "df2 = df2[~df2['set'].str.contains('gene')]\n",
        "df2 = df2[~df2['set'].str.contains(\"haven't\")]\n",
        "df2 = df2[~df2['set'].str.contains(\"i'm\")]\n",
        "df2 = df2[~df2['set'].str.contains(\"i've\")]\n",
        "df2 = df2[~df2['set'].str.contains(\"don't\")]\n",
        "df2 = df2[~df2['set'].str.contains(\"repair\")]\n",
        "print(df2.shape)\n",
        "\n",
        "honda_df = df2[df2['set'].str.contains('honda')]\n",
        "audi_df = df2[df2['set'].str.contains('audi')]\n",
        "toyota_df = df2[df2['set'].str.contains('toyota')]\n",
        "\n",
        "car_stop_words = ['repair', 'maintenance', 'nocan', 'yescan', 'major', 'note', 'car', 'last', 'minor', 'lol', 'lot', 'old', 'yeswarranty', 'nowarranty']\n",
        "\n",
        "honda_stop_words = ['honda']"
      ],
      "execution_count": null,
      "outputs": [
        {
          "output_type": "stream",
          "text": [
            "(4685, 10)\n"
          ],
          "name": "stdout"
        }
      ]
    },
    {
      "cell_type": "code",
      "metadata": {
        "id": "6ta6IuuJFaD0",
        "colab": {
          "base_uri": "https://localhost:8080/",
          "height": 66
        },
        "outputId": "88166e08-4cef-4a13-b5c8-8594da85ee36"
      },
      "source": [
        "print('honda df size', honda_df.shape)\n",
        "print('audi df size', audi_df.shape)\n",
        "print('toyota df size', toyota_df.shape)"
      ],
      "execution_count": null,
      "outputs": [
        {
          "output_type": "stream",
          "text": [
            "honda df size (779, 10)\n",
            "audi df size (439, 10)\n",
            "toyota df size (650, 10)\n"
          ],
          "name": "stdout"
        }
      ]
    },
    {
      "cell_type": "code",
      "metadata": {
        "id": "8R0GPFB4eWWg"
      },
      "source": [
        "# df2['set'] = df2['set'].astype(str)\n",
        "# df2['set'] = df2['set'].apply(lambda x: x[1:-1].split(','))"
      ],
      "execution_count": null,
      "outputs": []
    },
    {
      "cell_type": "code",
      "metadata": {
        "id": "F_ShGlSesStC",
        "colab": {
          "base_uri": "https://localhost:8080/",
          "height": 764
        },
        "outputId": "50e5175c-f139-47ff-d83e-1689a55702bf"
      },
      "source": [
        "df2.tail(15)"
      ],
      "execution_count": null,
      "outputs": [
        {
          "output_type": "execute_result",
          "data": {
            "text/html": [
              "<div>\n",
              "<style scoped>\n",
              "    .dataframe tbody tr th:only-of-type {\n",
              "        vertical-align: middle;\n",
              "    }\n",
              "\n",
              "    .dataframe tbody tr th {\n",
              "        vertical-align: top;\n",
              "    }\n",
              "\n",
              "    .dataframe thead th {\n",
              "        text-align: right;\n",
              "    }\n",
              "</style>\n",
              "<table border=\"1\" class=\"dataframe\">\n",
              "  <thead>\n",
              "    <tr style=\"text-align: right;\">\n",
              "      <th></th>\n",
              "      <th>Unnamed: 0</th>\n",
              "      <th>Parent ID</th>\n",
              "      <th>Comment ID</th>\n",
              "      <th>Score</th>\n",
              "      <th>Created</th>\n",
              "      <th>Body</th>\n",
              "      <th>Location</th>\n",
              "      <th>Price</th>\n",
              "      <th>buy</th>\n",
              "      <th>set</th>\n",
              "    </tr>\n",
              "  </thead>\n",
              "  <tbody>\n",
              "    <tr>\n",
              "      <th>3655</th>\n",
              "      <td>92</td>\n",
              "      <td>&lt;bound method Comment.parent of Comment(id='dl...</td>\n",
              "      <td>dlusowr</td>\n",
              "      <td>1</td>\n",
              "      <td>1.503203e+09</td>\n",
              "      <td>location: northern oklahoma price range: 5k us...</td>\n",
              "      <td>northern oklahoma</td>\n",
              "      <td>5k usd new or used: usedtype of vehicle: old ...</td>\n",
              "      <td>5k usd new or used: usedtype of vehicle: old ...</td>\n",
              "      <td>2000 honda accord, 2000 silverado</td>\n",
              "    </tr>\n",
              "    <tr>\n",
              "      <th>3656</th>\n",
              "      <td>93</td>\n",
              "      <td>&lt;bound method Comment.parent of Comment(id='dl...</td>\n",
              "      <td>dluuy1b</td>\n",
              "      <td>1</td>\n",
              "      <td>1.503206e+09</td>\n",
              "      <td>location: toronto, canada price range: 6k-10k...</td>\n",
              "      <td>toronto, canada</td>\n",
              "      <td>6k-10k cad new or used: used type of vehicle:...</td>\n",
              "      <td>6k-10k cad new or used: used type of vehicle:...</td>\n",
              "      <td>2013+ fiat 500, 2010+ mini cooper, 2011+ golf</td>\n",
              "    </tr>\n",
              "    <tr>\n",
              "      <th>3660</th>\n",
              "      <td>97</td>\n",
              "      <td>&lt;bound method Comment.parent of Comment(id='dl...</td>\n",
              "      <td>dlwl20s</td>\n",
              "      <td>1</td>\n",
              "      <td>1.503306e+09</td>\n",
              "      <td>location: va price range: 15k-28k new or used...</td>\n",
              "      <td>va</td>\n",
              "      <td>15k-28k new or used: new type of vehicle: tru...</td>\n",
              "      <td>15k-28k new or used: new type of vehicle: tru...</td>\n",
              "      <td>2017 chevy colorado, 2017 honda cr-v1.</td>\n",
              "    </tr>\n",
              "    <tr>\n",
              "      <th>3661</th>\n",
              "      <td>98</td>\n",
              "      <td>&lt;bound method Comment.parent of Comment(id='dl...</td>\n",
              "      <td>dlx9uby</td>\n",
              "      <td>1</td>\n",
              "      <td>1.503353e+09</td>\n",
              "      <td>location: stuart, flprice range: under $12knew...</td>\n",
              "      <td>stuart, fl</td>\n",
              "      <td>under $12knew or used: either, but i'm pretty...</td>\n",
              "      <td>under $12knew or used: either, but i'm pretty...</td>\n",
              "      <td>right now i have it narrowed down to 7 cars, ...</td>\n",
              "    </tr>\n",
              "    <tr>\n",
              "      <th>3664</th>\n",
              "      <td>101</td>\n",
              "      <td>&lt;bound method Comment.parent of Comment(id='dl...</td>\n",
              "      <td>dls69qr</td>\n",
              "      <td>1</td>\n",
              "      <td>1.503052e+09</td>\n",
              "      <td>location: melbourne, but willing to travel to ...</td>\n",
              "      <td>melbourne, but willing to travel to sa/nsw</td>\n",
              "      <td>20-25knew or used: eithertype of vehicle: spo...</td>\n",
              "      <td>20-25knew or used: eithertype of vehicle: spo...</td>\n",
              "      <td>a5, tt, q37</td>\n",
              "    </tr>\n",
              "    <tr>\n",
              "      <th>3666</th>\n",
              "      <td>103</td>\n",
              "      <td>&lt;bound method Comment.parent of Comment(id='dl...</td>\n",
              "      <td>dlsxxjm</td>\n",
              "      <td>1</td>\n",
              "      <td>1.503100e+09</td>\n",
              "      <td>so someone ran a stop sign and totalled the mu...</td>\n",
              "      <td>california, usa</td>\n",
              "      <td>dont want to spend over 18,000 usdnew or used...</td>\n",
              "      <td>dont want to spend over 18,000 usdnew or used...</td>\n",
              "      <td>camaro ss, c5, c6 with miles</td>\n",
              "    </tr>\n",
              "    <tr>\n",
              "      <th>3667</th>\n",
              "      <td>104</td>\n",
              "      <td>&lt;bound method Comment.parent of Comment(id='dl...</td>\n",
              "      <td>dlszqea</td>\n",
              "      <td>1</td>\n",
              "      <td>1.503102e+09</td>\n",
              "      <td>•location: ohio•price range: &lt; $55,000•new or ...</td>\n",
              "      <td>ohio•</td>\n",
              "      <td>&lt; $55,000•new or used:new or cpo•type of vehi...</td>\n",
              "      <td>&lt; $55,000•new or used:new or cpo•type of vehi...</td>\n",
              "      <td>wrx sti, mazdaspeed 3, tesla model 3. •cant h...</td>\n",
              "    </tr>\n",
              "    <tr>\n",
              "      <th>3668</th>\n",
              "      <td>105</td>\n",
              "      <td>&lt;bound method Comment.parent of Comment(id='dl...</td>\n",
              "      <td>dlt0kna</td>\n",
              "      <td>1</td>\n",
              "      <td>1.503103e+09</td>\n",
              "      <td>#note:  this is for either a 2-car or 1-car so...</td>\n",
              "      <td>nc, usa</td>\n",
              "      <td>~$650/mo, +/- $100 for the right solutionnew ...</td>\n",
              "      <td>~$650/mo, +/- $100 for the right solutionnew ...</td>\n",
              "      <td>bmw m2, honda s2000 + hyundai sonata, focus r...</td>\n",
              "    </tr>\n",
              "    <tr>\n",
              "      <th>3669</th>\n",
              "      <td>106</td>\n",
              "      <td>&lt;bound method Comment.parent of Comment(id='dl...</td>\n",
              "      <td>dlt841e</td>\n",
              "      <td>1</td>\n",
              "      <td>1.503112e+09</td>\n",
              "      <td>location: minnesota price range: $20-29 knew o...</td>\n",
              "      <td>minnesota</td>\n",
              "      <td>$20-29 knew or used: usedtype of vehicle: sed...</td>\n",
              "      <td>$20-29 knew or used: usedtype of vehicle: sed...</td>\n",
              "      <td>2013 audi a6 3.0t</td>\n",
              "    </tr>\n",
              "    <tr>\n",
              "      <th>3671</th>\n",
              "      <td>108</td>\n",
              "      <td>&lt;bound method Comment.parent of Comment(id='dl...</td>\n",
              "      <td>dltgc9x</td>\n",
              "      <td>1</td>\n",
              "      <td>1.503121e+09</td>\n",
              "      <td>location: illinoisprice range: 25,000-35,000ne...</td>\n",
              "      <td>illinois</td>\n",
              "      <td>25,000-35,000new or used: new  type of vehicl...</td>\n",
              "      <td>25,000-35,000new or used: new  type of vehicl...</td>\n",
              "      <td>subaru forester, toyota camry, honda accord, ...</td>\n",
              "    </tr>\n",
              "    <tr>\n",
              "      <th>3672</th>\n",
              "      <td>109</td>\n",
              "      <td>&lt;bound method Comment.parent of Comment(id='dl...</td>\n",
              "      <td>dls6d8r</td>\n",
              "      <td>0</td>\n",
              "      <td>1.503052e+09</td>\n",
              "      <td>location: nashville, tennessee  price range: 1...</td>\n",
              "      <td>nashville, tennessee</td>\n",
              "      <td>12-15k  new or used: used  type of vehicle: c...</td>\n",
              "      <td>12-15k  new or used: used  type of vehicle: c...</td>\n",
              "      <td>2011-2014 mustang v6, ford fusion, hyundai so...</td>\n",
              "    </tr>\n",
              "    <tr>\n",
              "      <th>3674</th>\n",
              "      <td>111</td>\n",
              "      <td>&lt;bound method Comment.parent of Comment(id='dl...</td>\n",
              "      <td>dlspazj</td>\n",
              "      <td>0</td>\n",
              "      <td>1.503091e+09</td>\n",
              "      <td>location: texas price range: $5000 new or use...</td>\n",
              "      <td>texas</td>\n",
              "      <td>$5000 new or used: used type: weekend sports ...</td>\n",
              "      <td>$5000 new or used: used type: weekend sports ...</td>\n",
              "      <td></td>\n",
              "    </tr>\n",
              "    <tr>\n",
              "      <th>3675</th>\n",
              "      <td>112</td>\n",
              "      <td>&lt;bound method Comment.parent of Comment(id='dl...</td>\n",
              "      <td>dlsrhcx</td>\n",
              "      <td>0</td>\n",
              "      <td>1.503093e+09</td>\n",
              "      <td>location:usa, mid-westprice range:$30-$40knew ...</td>\n",
              "      <td>usa, mid-west</td>\n",
              "      <td>$30-$40knew or used: usedtype of vehicle:sport...</td>\n",
              "      <td>$30-$40knew or used: usedtype of vehicle:sport...</td>\n",
              "      <td>m235i, golf r</td>\n",
              "    </tr>\n",
              "    <tr>\n",
              "      <th>3676</th>\n",
              "      <td>113</td>\n",
              "      <td>&lt;bound method Comment.parent of Comment(id='dl...</td>\n",
              "      <td>dlsrx30</td>\n",
              "      <td>0</td>\n",
              "      <td>1.503094e+09</td>\n",
              "      <td>location: new york city/long island•price rang...</td>\n",
              "      <td>new york city/long island•</td>\n",
              "      <td>$11,000 usd is the budget, but if the car is ...</td>\n",
              "      <td>$11,000 usd is the budget, but if the car is ...</td>\n",
              "      <td>g37x (really the perfect car, but hard to fin...</td>\n",
              "    </tr>\n",
              "    <tr>\n",
              "      <th>3679</th>\n",
              "      <td>116</td>\n",
              "      <td>&lt;bound method Comment.parent of Comment(id='dl...</td>\n",
              "      <td>dlw34l2</td>\n",
              "      <td>0</td>\n",
              "      <td>1.503283e+09</td>\n",
              "      <td>location: west michigan, usaprice range: $8k-$...</td>\n",
              "      <td>west michigan, usa</td>\n",
              "      <td>$8k-$12k usdnew or used: usedtype of vehicle:...</td>\n",
              "      <td>$8k-$12k usdnew or used: usedtype of vehicle:...</td>\n",
              "      <td>audi q7/q5, acura mdx, mazda cx 7/cx9</td>\n",
              "    </tr>\n",
              "  </tbody>\n",
              "</table>\n",
              "</div>"
            ],
            "text/plain": [
              "      Unnamed: 0  ...                                                set\n",
              "3655          92  ...                  2000 honda accord, 2000 silverado\n",
              "3656          93  ...     2013+ fiat 500, 2010+ mini cooper, 2011+ golf \n",
              "3660          97  ...            2017 chevy colorado, 2017 honda cr-v1. \n",
              "3661          98  ...   right now i have it narrowed down to 7 cars, ...\n",
              "3664         101  ...                                        a5, tt, q37\n",
              "3666         103  ...                       camaro ss, c5, c6 with miles\n",
              "3667         104  ...   wrx sti, mazdaspeed 3, tesla model 3. •cant h...\n",
              "3668         105  ...   bmw m2, honda s2000 + hyundai sonata, focus r...\n",
              "3669         106  ...                                 2013 audi a6 3.0t \n",
              "3671         108  ...   subaru forester, toyota camry, honda accord, ...\n",
              "3672         109  ...   2011-2014 mustang v6, ford fusion, hyundai so...\n",
              "3674         111  ...                                                   \n",
              "3675         112  ...                                      m235i, golf r\n",
              "3676         113  ...   g37x (really the perfect car, but hard to fin...\n",
              "3679         116  ...              audi q7/q5, acura mdx, mazda cx 7/cx9\n",
              "\n",
              "[15 rows x 10 columns]"
            ]
          },
          "metadata": {
            "tags": []
          },
          "execution_count": 35
        }
      ]
    },
    {
      "cell_type": "code",
      "metadata": {
        "id": "zEqR_XGsjky2"
      },
      "source": [
        "df2.to_csv('cars.csv')"
      ],
      "execution_count": null,
      "outputs": []
    },
    {
      "cell_type": "markdown",
      "metadata": {
        "id": "OUJGEuA85u8b"
      },
      "source": [
        "# Turning Data into Insights"
      ]
    },
    {
      "cell_type": "markdown",
      "metadata": {
        "id": "GqD79dNF5ypJ"
      },
      "source": [
        "## Attempt 1: trying to create co-occurence matrix"
      ]
    },
    {
      "cell_type": "code",
      "metadata": {
        "id": "aYl155uRK8Ti"
      },
      "source": [
        "def generate_co_occurrence_matrix(corpus):\n",
        "    vocab = set(corpus)\n",
        "    vocab = list(vocab)\n",
        "    vocab_index = {word: i for i, word in enumerate(vocab)}\n",
        " \n",
        "    # Create bigrams from all words in corpus\n",
        "    bi_grams = list(bigrams(corpus))\n",
        " \n",
        "    # Frequency distribution of bigrams ((word1, word2), num_occurrences)\n",
        "    bigram_freq = nltk.FreqDist(bi_grams).most_common(len(bi_grams))\n",
        " \n",
        "    # Initialise co-occurrence matrix\n",
        "    # co_occurrence_matrix[current][previous]\n",
        "    co_occurrence_matrix = np.zeros((len(vocab), len(vocab)))\n",
        " \n",
        "    # Loop through the bigrams taking the current and previous word,\n",
        "    # and the number of occurrences of the bigram.\n",
        "    for bigram in bigram_freq:\n",
        "        current = bigram[0][1]\n",
        "        previous = bigram[0][0]\n",
        "        count = bigram[1]\n",
        "        pos_current = vocab_index[current]\n",
        "        pos_previous = vocab_index[previous]\n",
        "        co_occurrence_matrix[pos_current][pos_previous] = count\n",
        "    co_occurrence_matrix = np.matrix(co_occurrence_matrix)\n",
        " \n",
        "    # return the matrix and the index\n",
        "    return co_occurrence_matrix, vocab_index"
      ],
      "execution_count": null,
      "outputs": []
    },
    {
      "cell_type": "code",
      "metadata": {
        "id": "kaq0AzT3LH-v"
      },
      "source": [
        "text_data = [['Where', 'Python', 'is', 'used'],\n",
        "             ['What', 'is', 'Python' 'used', 'in'],\n",
        "             ['Why', 'Python', 'is', 'best'],\n",
        "             ['What', 'companies', 'use', 'Python']]"
      ],
      "execution_count": null,
      "outputs": []
    },
    {
      "cell_type": "code",
      "metadata": {
        "id": "UjEZhyNFLKRo",
        "colab": {
          "base_uri": "https://localhost:8080/",
          "height": 250
        },
        "outputId": "9b2ffbd9-6098-4100-ea9f-354d253eeda3"
      },
      "source": [
        "data = list(itertools.chain.from_iterable(text_data))\n",
        "matrix, vocab_index = generate_co_occurrence_matrix(data)\n",
        " \n",
        " \n",
        "data_matrix = pd.DataFrame(matrix, index=vocab_index,\n",
        "                             columns=vocab_index)\n",
        "print(data_matrix)"
      ],
      "execution_count": null,
      "outputs": [
        {
          "output_type": "stream",
          "text": [
            "            companies  What  Where   is  ...  Pythonused  Python  best  used\n",
            "companies         0.0   1.0    0.0  0.0  ...         0.0     0.0   0.0   0.0\n",
            "What              0.0   0.0    0.0  0.0  ...         0.0     0.0   1.0   1.0\n",
            "Where             0.0   0.0    0.0  0.0  ...         0.0     0.0   0.0   0.0\n",
            "is                0.0   1.0    0.0  0.0  ...         0.0     2.0   0.0   0.0\n",
            "in                0.0   0.0    0.0  0.0  ...         1.0     0.0   0.0   0.0\n",
            "Why               0.0   0.0    0.0  0.0  ...         0.0     0.0   0.0   0.0\n",
            "use               1.0   0.0    0.0  0.0  ...         0.0     0.0   0.0   0.0\n",
            "Pythonused        0.0   0.0    0.0  1.0  ...         0.0     0.0   0.0   0.0\n",
            "Python            0.0   0.0    1.0  0.0  ...         0.0     0.0   0.0   0.0\n",
            "best              0.0   0.0    0.0  1.0  ...         0.0     0.0   0.0   0.0\n",
            "used              0.0   0.0    0.0  1.0  ...         0.0     0.0   0.0   0.0\n",
            "\n",
            "[11 rows x 11 columns]\n"
          ],
          "name": "stdout"
        }
      ]
    },
    {
      "cell_type": "code",
      "metadata": {
        "id": "-FUtwtJQNkmB"
      },
      "source": [
        "data = list(itertools.chain.from_iterable(df2['set']))"
      ],
      "execution_count": null,
      "outputs": []
    },
    {
      "cell_type": "code",
      "metadata": {
        "id": "xi3O3NI9Ntoo"
      },
      "source": [
        "matrix, vocab_index = generate_co_occurrence_matrix(data)"
      ],
      "execution_count": null,
      "outputs": []
    },
    {
      "cell_type": "code",
      "metadata": {
        "id": "gQJuAUJMNw-B"
      },
      "source": [
        "data_matrix = pd.DataFrame(matrix, index=vocab_index,\n",
        "                             columns=vocab_index)\n"
      ],
      "execution_count": null,
      "outputs": []
    },
    {
      "cell_type": "code",
      "metadata": {
        "id": "_X9786ZkNzkZ",
        "colab": {
          "base_uri": "https://localhost:8080/",
          "height": 250
        },
        "outputId": "6b0fe566-6150-4d96-820f-74568460f026"
      },
      "source": [
        "print(data_matrix)"
      ],
      "execution_count": null,
      "outputs": [
        {
          "output_type": "stream",
          "text": [
            "                                                         ...  bmw 5series\n",
            "                                                    8.0  ...          0.0\n",
            "dodge charger but don’t know if it’s a good ide...  0.0  ...          0.0\n",
            " water pump                                         0.0  ...          0.0\n",
            " bmw 3 series                                       0.0  ...          0.0\n",
            " subaru forester and outback •                      0.0  ...          0.0\n",
            "...                                                 ...  ...          ...\n",
            "- acura tl                                          0.0  ...          0.0\n",
            " 2020 kia telluride sx awd prestige packag          0.0  ...          0.0\n",
            "vw gli                                              0.0  ...          0.0\n",
            " 07+ mazdaspeed3                                    0.0  ...          0.0\n",
            "bmw 5series                                         0.0  ...          0.0\n",
            "\n",
            "[8244 rows x 8244 columns]\n"
          ],
          "name": "stdout"
        }
      ]
    },
    {
      "cell_type": "code",
      "metadata": {
        "id": "EIz1HgX0O11u"
      },
      "source": [
        "data_matrix.to_csv('/content/drive/My Drive/Kaggle Contest Data/Car Data/data.csv')"
      ],
      "execution_count": null,
      "outputs": []
    },
    {
      "cell_type": "markdown",
      "metadata": {
        "id": "2SgVDcyT55qq"
      },
      "source": [
        "## Attempt 2: Topic Modeling"
      ]
    },
    {
      "cell_type": "code",
      "metadata": {
        "id": "_CXGJIQI5_Oq"
      },
      "source": [
        "def freq_words(x, terms = 30):\n",
        "  all_words = ' '.join([text for text in x])\n",
        "  all_words = all_words.split()\n",
        "  \n",
        "  fdist = FreqDist(all_words)\n",
        "  words_df = pd.DataFrame({'word':list(fdist.keys()), 'count':list(fdist.values())})\n",
        "  \n",
        "  # selecting top 20 most frequent words\n",
        "  d = words_df.nlargest(columns=\"count\", n = terms) \n",
        "  plt.figure(figsize=(20,5))\n",
        "  ax = sns.barplot(data=d, x= \"word\", y = \"count\")\n",
        "  ax.set(ylabel = 'Count')\n",
        "  plt.show()"
      ],
      "execution_count": null,
      "outputs": []
    },
    {
      "cell_type": "code",
      "metadata": {
        "id": "kg6GVzW46qbk",
        "colab": {
          "base_uri": "https://localhost:8080/",
          "height": 334
        },
        "outputId": "01ad2bb5-740e-4709-8980-c9118865914c"
      },
      "source": [
        "freq_words(honda_df['set'], terms=30)"
      ],
      "execution_count": null,
      "outputs": [
        {
          "output_type": "display_data",
          "data": {
            "image/png": "[encoded data removed]",
            "text/plain": [
              "<Figure size 1440x360 with 1 Axes>"
            ]
          },
          "metadata": {
            "tags": [],
            "needs_background": "light"
          }
        }
      ]
    },
    {
      "cell_type": "code",
      "metadata": {
        "id": "9ObT3sRA7G5E"
      },
      "source": [
        "def remove_stopwords(rev):\n",
        "  rev_new = \" \".join([i for i in rev if i not in stop_words])\n",
        "  return rev_new"
      ],
      "execution_count": null,
      "outputs": []
    },
    {
      "cell_type": "code",
      "metadata": {
        "id": "8hus7Cxp7aDl"
      },
      "source": [
        "stop_words = stopwords.words('english')\n",
        "car_stop_words.append('honda')\n",
        "\n",
        "for word in car_stop_words:\n",
        "  stop_words.append(word)\n"
      ],
      "execution_count": null,
      "outputs": []
    },
    {
      "cell_type": "code",
      "metadata": {
        "id": "tuAnmLMcWGte",
        "colab": {
          "base_uri": "https://localhost:8080/",
          "height": 53
        },
        "outputId": "da3162cd-7cfc-4315-e98e-28af50bac0e6"
      },
      "source": [
        "print(stop_words)"
      ],
      "execution_count": null,
      "outputs": [
        {
          "output_type": "stream",
          "text": [
            "['i', 'me', 'my', 'myself', 'we', 'our', 'ours', 'ourselves', 'you', \"you're\", \"you've\", \"you'll\", \"you'd\", 'your', 'yours', 'yourself', 'yourselves', 'he', 'him', 'his', 'himself', 'she', \"she's\", 'her', 'hers', 'herself', 'it', \"it's\", 'its', 'itself', 'they', 'them', 'their', 'theirs', 'themselves', 'what', 'which', 'who', 'whom', 'this', 'that', \"that'll\", 'these', 'those', 'am', 'is', 'are', 'was', 'were', 'be', 'been', 'being', 'have', 'has', 'had', 'having', 'do', 'does', 'did', 'doing', 'a', 'an', 'the', 'and', 'but', 'if', 'or', 'because', 'as', 'until', 'while', 'of', 'at', 'by', 'for', 'with', 'about', 'against', 'between', 'into', 'through', 'during', 'before', 'after', 'above', 'below', 'to', 'from', 'up', 'down', 'in', 'out', 'on', 'off', 'over', 'under', 'again', 'further', 'then', 'once', 'here', 'there', 'when', 'where', 'why', 'how', 'all', 'any', 'both', 'each', 'few', 'more', 'most', 'other', 'some', 'such', 'no', 'nor', 'not', 'only', 'own', 'same', 'so', 'than', 'too', 'very', 's', 't', 'can', 'will', 'just', 'don', \"don't\", 'should', \"should've\", 'now', 'd', 'll', 'm', 'o', 're', 've', 'y', 'ain', 'aren', \"aren't\", 'couldn', \"couldn't\", 'didn', \"didn't\", 'doesn', \"doesn't\", 'hadn', \"hadn't\", 'hasn', \"hasn't\", 'haven', \"haven't\", 'isn', \"isn't\", 'ma', 'mightn', \"mightn't\", 'mustn', \"mustn't\", 'needn', \"needn't\", 'shan', \"shan't\", 'shouldn', \"shouldn't\", 'wasn', \"wasn't\", 'weren', \"weren't\", 'won', \"won't\", 'wouldn', \"wouldn't\", 'repair', 'maintenance', 'nocan', 'yescan', 'major', 'note', 'car', 'last', 'minor', 'lol', 'lot', 'old', 'yeswarranty', 'nowarranty', 'honda', 'honda', 'honda']\n"
          ],
          "name": "stdout"
        }
      ]
    },
    {
      "cell_type": "code",
      "metadata": {
        "id": "ao1wi5eR7IAM"
      },
      "source": [
        "text = [remove_stopwords(r.split()) for r in honda_df['set']]"
      ],
      "execution_count": null,
      "outputs": []
    },
    {
      "cell_type": "code",
      "metadata": {
        "id": "Sb5iIq9q7l79",
        "colab": {
          "base_uri": "https://localhost:8080/",
          "height": 334
        },
        "outputId": "9f83312d-90b5-4b65-a11e-f4dcd3d70174"
      },
      "source": [
        "freq_words(text, terms=30)"
      ],
      "execution_count": null,
      "outputs": [
        {
          "output_type": "display_data",
          "data": {
            "image/png": "[encoded data removed]",
            "text/plain": [
              "<Figure size 1440x360 with 1 Axes>"
            ]
          },
          "metadata": {
            "tags": [],
            "needs_background": "light"
          }
        }
      ]
    },
    {
      "cell_type": "code",
      "metadata": {
        "id": "QhhNws8n7maA"
      },
      "source": [
        "nlp = spacy.load('en', disable=['parser', 'ner'])\n",
        "def lemmatization(texts, tags=['NOUN', 'ADJ']):\n",
        "    output = []\n",
        "    for sent in texts:\n",
        "        doc = nlp(\" \".join(sent)) \n",
        "        output.append([token.lemma_ for token in doc if token.pos_ in tags])\n",
        "    return output"
      ],
      "execution_count": null,
      "outputs": []
    },
    {
      "cell_type": "code",
      "metadata": {
        "id": "YjlNEdTg7mOU",
        "colab": {
          "base_uri": "https://localhost:8080/",
          "height": 33
        },
        "outputId": "8a3f6e47-ca7b-4fa1-d31b-80d5abdf696f"
      },
      "source": [
        "tokenized_reviews = pd.Series(text).apply(lambda x: x.split())\n",
        "print(tokenized_reviews[1])"
      ],
      "execution_count": null,
      "outputs": [
        {
          "output_type": "stream",
          "text": [
            "['hyundai', 'ioniq,', 'civic,', 'hyundai', 'volester', '(i', 'really', 'like', 'design', 'th']\n"
          ],
          "name": "stdout"
        }
      ]
    },
    {
      "cell_type": "code",
      "metadata": {
        "id": "FFScqBL-7lx9",
        "colab": {
          "base_uri": "https://localhost:8080/",
          "height": 33
        },
        "outputId": "bfe76efe-83e9-4fe9-88a7-8acf9c4d5963"
      },
      "source": [
        "reviews_2 = lemmatization(tokenized_reviews)\n",
        "print(reviews_2[1])"
      ],
      "execution_count": null,
      "outputs": [
        {
          "output_type": "stream",
          "text": [
            "['design']\n"
          ],
          "name": "stdout"
        }
      ]
    },
    {
      "cell_type": "code",
      "metadata": {
        "id": "MQ0T8aao8XCt",
        "colab": {
          "base_uri": "https://localhost:8080/",
          "height": 33
        },
        "outputId": "e63b088a-ed9d-4bd3-f274-44c16648526e"
      },
      "source": [
        "set(tokenized_reviews[1]) - set(reviews_2[1])"
      ],
      "execution_count": null,
      "outputs": [
        {
          "output_type": "execute_result",
          "data": {
            "text/plain": [
              "{'(i', 'civic,', 'hyundai', 'ioniq,', 'like', 'really', 'th', 'volester'}"
            ]
          },
          "metadata": {
            "tags": []
          },
          "execution_count": 93
        }
      ]
    },
    {
      "cell_type": "code",
      "metadata": {
        "id": "oEAEUPqT8WnW"
      },
      "source": [
        "dictionary = corpora.Dictionary(reviews_2)\n",
        "\n",
        "# Convert list of reviews (reviews_2) into a Document Term Matrix using the dictionary prepared above.\n",
        "doc_term_matrix = [dictionary.doc2bow(rev) for rev in reviews_2]\n",
        "\n",
        "# Creating the object for LDA model using gensim library\n",
        "LDA = gensim.models.ldamodel.LdaModel"
      ],
      "execution_count": null,
      "outputs": []
    },
    {
      "cell_type": "code",
      "metadata": {
        "id": "qgbhKWKP8WYC"
      },
      "source": [
        "%%capture\n",
        "lda_model = LDA(corpus=doc_term_matrix,\n",
        "                id2word=dictionary,\n",
        "                num_topics=8, \n",
        "                random_state=100,\n",
        "                chunksize=1000,\n",
        "                passes=200)"
      ],
      "execution_count": null,
      "outputs": []
    },
    {
      "cell_type": "code",
      "metadata": {
        "id": "6-5T0gj19bAx",
        "colab": {
          "base_uri": "https://localhost:8080/",
          "height": 860
        },
        "outputId": "16fee96b-ed25-403b-898e-43d9c357ccce"
      },
      "source": [
        "pyLDAvis.enable_notebook()\n",
        "vis = pyLDAvis.gensim.prepare(lda_model, doc_term_matrix, dictionary)\n",
        "vis"
      ],
      "execution_count": null,
      "outputs": [
        {
          "output_type": "execute_result",
          "data": {
            "text/html": [
              "\n",
              "<link rel=\"stylesheet\" type=\"text/css\" href=\"https://cdn.rawgit.com/bmabey/pyLDAvis/files/ldavis.v1.0.0.css\">\n",
              "\n",
              "\n",
              "<div id=\"ldavis_el1031399909013039608335316950\"></div>\n",
              "<script type=\"text/javascript\">\n",
              "\n",
              "var ldavis_el1031399909013039608335316950_data = {\"mdsDat\": {\"x\": [0.1894695339663181, -0.1324620828785476, -0.02411361845825235, -0.01064151768721509, 0.11784381163072936, 0.10826902258614744, -0.0472395205498436, -0.20112562860933592], \"y\": [-0.015059141538176444, -0.07509551791865049, 0.20345020119123877, 0.08635829822930854, -0.112184305135886, -0.054363416591723376, 0.07264109214758484, -0.1057472103836959], \"topics\": [1, 2, 3, 4, 5, 6, 7, 8], \"cluster\": [1, 1, 1, 1, 1, 1, 1, 1], \"Freq\": [15.537196159362793, 13.670248031616211, 13.546858787536621, 13.304306983947754, 12.489057540893555, 12.172490119934082, 9.94231128692627, 9.337526321411133]}, \"tinfo\": {\"Term\": [\"civic\", \"pilot\", \"work\", \"accord\", \"vehicle\", \"golf\", \"ex\", \"type\", \"sport\", \"model\", \"forester\", \"new\", \"outback\", \"r\", \"mile\", \"fit\", \"tsx\", \"-\", \"prelude\", \"si\", \"mazda\", \"car\", \"fusion\", \"scion\", \"hatch\", \"mazda3\", \"subaru\", \"touring\", \"range\", \"element\", \"sport\", \"hatch\", \"golf\", \"expensive\", \"fusion\", \"unsure\", \"variant\", \"other\", \"suburu\", \"volkswagon\", \"sedan\", \"civic\", \"veloster\", \"reliable\", \"volkswagen\", \"reputation\", \"tag\", \"gas\", \"mileage\", \"1.5i\", \"station\", \"due\", \"concern\", \"tlx-\", \"crack\", \"mean\", \"break\", \"row\", \"passing\", \"smal\", \"touring\", \"maintain\", \"easy\", \"corolla\", \"late\", \"fit\", \"hatchback\", \"prelude\", \"coupe\", \"good\", \"small\", \"year\", \"many\", \"price\", \"8th\", \"e\", \"vtec\", \"market\", \"integra\", \"e36\", \"2zz\", \"se\", \"luxury\", \"prelude\", \"hybrid\", \"condition\", \"surf\", \"feature\", \"preferable\", \"snowy\", \"road\", \"nodoe\", \"space\", \"rack\", \"shaky\", \"kid\", \"dog\", \"local\", \"experience\", \"room\", \"suv\", \"convertible\", \"cargo\", \"decent\", \"preferred\", \"f250\", \"tracker\", \"street\", \"ft\", \"sailboat\", \"awd\", \"filter\", \"square\", \"graduate\", \"additional\", \"drive\", \"year\", \"fitwarranty\", \"challenger\", \"car-\", \"duster\", \"coupe\", \"door\", \"vehicle\", \"job\", \"oil\", \"possible.minor\", \"rotor\", \"note\", \"small\", \"series\", \"work\", \"warranty\", \"new\", \"car\", \"2nd\", \"volkswagen\", \"nice\", \"wife\", \"test\", \"manual\", \"lancer\", \"3rd\", \"seat\", \"firebird\", \"accord\", \"km\", \"tool\", \"sake\", \"highway\", \"garage\", \"firsr\", \"economy\", \"argument\", \"access\", \"%\", \"crossover\", \"insurance\", \"line\", \"mazda\", \"outback\", \"insight\", \"gti\", \"crv\", \"full\", \"snow\", \"preferredi\", \"now.additional\", \"much\", \"heavy\", \"vehiclewarranty\", \"able\", \"kia\", \"fancy\", \"solstice\", \"camry\", \"problem\", \"fuel\", \"focus\", \"little\", \"car\", \"good\", \"reliability\", \"warranty\", \"touring\", \"golf\", \"note\", \"fusion\", \"year\", \"range\", \"element\", \"option\", \"city\", \"contender\", \"tahoe\", \"model\", \"early\", \"no-\", \"jazz\", \"mazda6\", \"mid\", \"price\", \"motor\", \"auto\", \"paper\", \"swing\", \"sportier\", \"main\", \"great\", \"vs\", \"mitsub\", \"tron\", \"echo\", \"wide\", \"lucky\", \"likely\", \"tech\", \"pro\", \"ass\", \"bunch\", \"opinion\", \"same\", \"marqu\", \"whole\", \"subarus\", \"civicor\", \"chev\", \"cruze\", \"compar\", \"fine\", \"toy\", \"consideration\", \"variety\", \"series\", \"looking\", \"forester\", \"4wd\", \"bev\", \"brio\", \"corolla\", \"accord\", \"warranty\", \"civic\", \"new\", \"rare\", \"way\", \"high\", \"wagon\", \"ex\", \"budget\", \"mile\", \"l\", \"various\", \"-\", \"t\", \"big\", \"stinger\", \"abarth\", \"new\", \"fit\", \"pick\", \"package\", \"w\", \"grand\", \"versatility\", \"such\", \"reason\", \"cool\", \"use\", \"day\", \"acura\", \"comfortable\", \"golf-\", \"parent\", \"seatbelt\", \"99k\", \"ton\", \"130k\", \"choice\", \"soul\", \"get\", \"liter\", \"top\", \"wife\", \"weather\", \"hatchback\", \"bit\", \"civic\", \"door\", \"touring\", \"signature\", \"passport\", \"nice\", \"veloster\", \"different\", \"driver\", \"second\", \"type\", \"pilot\", \"si\", \"r\", \"g35\", \"stuff\", \"pricey\", \"transm\", \"ascent\", \"many\", \"fca\", \"favorite\", \"guilty\", \"coup\", \"replacement\", \"g37\", \"pleasure\", \"cpo\", \"backup\", \"mpg\", \"cam\", \"table\", \"order\", \"boring\", \"uncomfortable\", \"garbage\", \"gtd\", \"neededcan\", \"alternator\", \"pad\", \"fluid\", \"cheap\", \"sure\", \"current\", \"car\", \"civic\", \"new\", \"crv\", \"different\", \"hard\", \"part\", \"mazda3\", \"subaru\", \"family\", \"70\", \"jeep\", \"crown\", \"accent\", \"forester\", \"spider\", \"fiat\", \"bike\", \"loved\", \"60\", \"triumph\", \"interior\", \"version\", \"brz\", \"person\", \"terrain\", \"saving\", \"cost\", \"gmc\", \"look)-th\", \"one\", \"dream\", \"horsepower\", \"low\", \"area\", \"popular\", \"ghia\", \"rav4\", \"n\", \"open\", \"old\", \"suggestion\", \"outback\", \"cheap\", \"hatchback\", \"year\", \"tl\", \"tsx\", \"mazda\", \"pilot\", \"ascent\", \"mid\", \"fr\", \"s\", \"insight\", \"idea\", \"mustang\", \"trim\", \"size\", \"similar\", \"scion\", \"nowarranty\", \"work\", \"steer\", \"preferablycan\", \"clear\", \"legroom\", \"vw\", \"tsx\", \"vehicle\", \"legacy\", \"fun\", \"g37.1st\", \"polo\", \"necessarilycan\", \"starter\", \"vue\", \"pathfinder\", \"headroom\", \"sportback\", \"first\", \"8th\", \"signature\", \"noadditional\", \"yeswarranty\", \"lancer\", \"focus\", \"note\", \"model\", \"v\\u00e9hicule\"], \"Freq\": [62.0, 23.0, 23.0, 28.0, 25.0, 21.0, 12.0, 9.0, 10.0, 11.0, 10.0, 15.0, 10.0, 8.0, 8.0, 11.0, 8.0, 8.0, 9.0, 6.0, 9.0, 11.0, 10.0, 5.0, 7.0, 5.0, 5.0, 12.0, 6.0, 6.0, 10.099637031555176, 6.524516582489014, 16.259305953979492, 2.2344436645507812, 7.2394633293151855, 1.5194215774536133, 1.5194214582443237, 1.5194214582443237, 1.5194214582443237, 1.5193696022033691, 2.949383497238159, 38.65274429321289, 2.2341725826263428, 2.23441481590271, 2.854189872741699, 0.8043997883796692, 0.8043997883796692, 0.8043996691703796, 0.8043996691703796, 0.8043996691703796, 0.8043996691703796, 0.8043996691703796, 0.8043996691703796, 0.8043996691703796, 0.8043996691703796, 0.8043996691703796, 0.8043996095657349, 0.8043996095657349, 0.8043996095657349, 0.8043996095657349, 6.234033584594727, 0.8043996095657349, 0.8043996095657349, 2.2342612743377686, 1.5195844173431396, 3.664578676223755, 2.9494690895080566, 2.948867082595825, 1.5192338228225708, 1.5191580057144165, 1.5193507671356201, 1.5183237791061401, 0.8584604263305664, 0.8526946306228638, 0.8044774532318115, 0.804442286491394, 0.804442286491394, 2.484813690185547, 2.4847474098205566, 1.689672827720642, 1.689672827720642, 1.6895074844360352, 1.6894453763961792, 6.4609856605529785, 2.484957456588745, 0.8945330381393433, 0.8945330381393433, 0.8945330381393433, 0.8945330381393433, 0.8945330381393433, 0.8945330381393433, 0.8945330381393433, 0.8945330381393433, 0.8945330381393433, 0.8945330381393433, 0.8945330381393433, 0.8945330381393433, 0.8945330381393433, 0.8945330381393433, 0.8945330381393433, 0.8945330381393433, 0.8945330381393433, 0.8945330381393433, 0.8945330381393433, 0.8945329785346985, 0.8945327997207642, 0.8945326805114746, 0.8945327997207642, 0.8945326805114746, 0.8945326805114746, 0.8945327401161194, 0.8945329785346985, 0.8945327997207642, 0.8945329785346985, 1.6897181272506714, 1.6896432638168335, 4.87039041519165, 0.8945327997207642, 0.8945327997207642, 0.8945329785346985, 0.8945327997207642, 2.4850358963012695, 2.485241174697876, 8.050820350646973, 0.8945329785346985, 0.8945329785346985, 0.8945329785346985, 0.8945329785346985, 3.2799477577209473, 2.485652446746826, 1.689729928970337, 5.665351867675781, 1.689976453781128, 1.8551671504974365, 1.6891682147979736, 0.8945326805114746, 1.0004936456680298, 0.894728422164917, 0.894719660282135, 0.8946547508239746, 0.8946380615234375, 0.894597589969635, 0.8945806622505188, 0.8945735096931458, 0.8945609927177429, 22.772924423217773, 2.378455638885498, 1.6173497438430786, 1.6173497438430786, 1.6173497438430786, 1.6173497438430786, 1.6173497438430786, 1.6173497438430786, 1.6173497438430786, 1.6173497438430786, 1.6173497438430786, 1.6173491477966309, 1.6172378063201904, 1.6161329746246338, 6.944978713989258, 6.8821024894714355, 2.378267765045166, 2.3786709308624268, 4.662243366241455, 0.856243908405304, 0.856243908405304, 0.856243908405304, 0.856243908405304, 0.856243908405304, 0.856243908405304, 0.856243908405304, 0.856243908405304, 0.8562437891960144, 0.8562437891960144, 0.8562437295913696, 1.6174075603485107, 1.6174036264419556, 1.6173826456069946, 1.6172279119491577, 1.6172528266906738, 5.203710079193115, 2.378594398498535, 1.6174473762512207, 2.378941297531128, 3.4482836723327637, 4.193863391876221, 2.3784801959991455, 2.3785979747772217, 1.8570609092712402, 5.381062984466553, 5.381059646606445, 5.3809990882873535, 3.8705694675445557, 2.3601255416870117, 2.359773874282837, 8.402214050292969, 1.604868769645691, 1.6046897172927856, 3.1154143810272217, 3.870621681213379, 2.3600077629089355, 3.1154956817626953, 0.84964519739151, 0.84964519739151, 0.84964519739151, 0.84964519739151, 0.84964519739151, 0.8496450185775757, 0.8496450781822205, 0.8496450185775757, 0.8496450185775757, 0.8496450781822205, 0.8496450185775757, 0.8496450781822205, 0.8496450781822205, 0.8496450781822205, 0.8496450781822205, 0.8496450781822205, 0.8496450781822205, 0.8496450781822205, 0.8496450185775757, 0.8496450185775757, 0.8496450185775757, 0.8496450781822205, 0.8496450781822205, 0.8496450185775757, 0.8496450781822205, 0.8496450781822205, 0.8496450781822205, 0.8496450781822205, 0.8496450781822205, 0.8496450185775757, 0.8496450781822205, 1.6047508716583252, 0.8496450781822205, 3.1152215003967285, 0.8496450781822205, 0.8496450185775757, 0.8496450185775757, 1.6049937009811401, 4.779877185821533, 1.6048492193222046, 3.384174108505249, 1.604566216468811, 0.8496445417404175, 0.849693238735199, 0.8496591448783875, 0.8496566414833069, 12.026507377624512, 3.8223752975463867, 6.806009292602539, 3.0765461921691895, 3.076519012451172, 6.806182861328125, 4.568540096282959, 1.5848913192749023, 1.5848913192749023, 1.5847042798995972, 9.63414192199707, 6.790124893188477, 0.839060366153717, 0.839060366153717, 0.839060366153717, 0.839060366153717, 0.8390602469444275, 0.8390603065490723, 0.8390603065490723, 0.8390603065490723, 0.8390602469444275, 0.8390602469444275, 0.8390602469444275, 0.8390602469444275, 0.8390602469444275, 0.8390602469444275, 0.8390602469444275, 0.8390602469444275, 0.8390602469444275, 0.8390602469444275, 1.5851459503173828, 1.5848586559295654, 0.8390601873397827, 0.8390601873397827, 1.5849037170410156, 1.5847163200378418, 0.8390601873397827, 3.8219752311706543, 1.5850650072097778, 7.597552299499512, 1.5850800275802612, 2.3312485218048096, 0.8392234444618225, 0.839173436164856, 0.8391538858413696, 0.8391225337982178, 0.8390748500823975, 0.8390631675720215, 0.8390605449676514, 8.694668769836426, 21.57307243347168, 5.826307773590088, 7.260659694671631, 2.2407844066619873, 2.2407665252685547, 1.5238138437271118, 1.523516058921814, 2.8506836891174316, 2.1866047382354736, 0.8067249655723572, 0.8067249655723572, 0.8067249059677124, 0.8067249655723572, 0.8067249059677124, 0.8067249059677124, 0.8067249059677124, 0.8067249059677124, 0.8067249059677124, 0.8067249059677124, 0.8067249059677124, 0.8067243695259094, 0.8067245483398438, 0.8066664338111877, 0.8066635131835938, 0.8066635131835938, 0.8066574335098267, 0.8065881729125977, 0.8065419793128967, 0.8065419793128967, 0.8065419793128967, 2.2405757904052734, 1.5237513780593872, 1.52387273311615, 4.599119663238525, 12.745555877685547, 2.2406063079833984, 1.5235114097595215, 0.806770920753479, 0.8067339658737183, 0.8067325353622437, 4.5459723472595215, 4.545896053314209, 3.061556339263916, 2.319394588470459, 2.3193440437316895, 1.5771877765655518, 1.5771878957748413, 6.585533618927002, 2.3195436000823975, 0.8349820971488953, 0.8349820971488953, 0.8349820971488953, 0.8349820971488953, 0.8349820971488953, 0.8349820971488953, 0.8349820971488953, 0.8349818587303162, 0.8349818587303162, 0.8349818587303162, 0.8349818587303162, 0.8349818587303162, 0.8349818587303162, 0.8349818587303162, 0.8349817395210266, 0.8349817395210266, 0.8349817395210266, 0.8349817395210266, 0.8349817395210266, 0.8349817395210266, 0.8349817395210266, 0.8349817395210266, 1.5774238109588623, 1.5774904489517212, 1.5771162509918213, 1.57734215259552, 3.1229782104492188, 1.5772984027862549, 2.3197827339172363, 2.0866315364837646, 0.8349817395210266, 1.5773662328720093, 1.5774582624435425, 1.6073768138885498, 0.9460108280181885, 0.8350755572319031, 0.8350363373756409, 0.8350363373756409, 0.8350147604942322, 0.835010826587677, 0.8350070118904114, 0.8350026607513428, 0.8349926471710205, 0.8349828720092773, 4.593757629394531, 3.8437464237213135, 17.34368896484375, 1.5937600135803223, 1.5937600135803223, 1.5937600135803223, 1.5936909914016724, 1.5936530828475952, 5.3438215255737305, 15.844213485717773, 2.3437483310699463, 3.094252586364746, 0.8437552452087402, 0.8437549471855164, 0.8437550067901611, 0.8437550067901611, 0.8437549471855164, 0.8436710834503174, 0.8436710834503174, 0.8432803153991699, 1.5936791896820068, 0.8436736464500427, 0.843591034412384, 0.8437517881393433, 0.8437454700469971, 0.8436346650123596, 0.8435797095298767, 2.3436100482940674, 2.343550205230713, 0.09465622901916504], \"Total\": [62.0, 23.0, 23.0, 28.0, 25.0, 21.0, 12.0, 9.0, 10.0, 11.0, 10.0, 15.0, 10.0, 8.0, 8.0, 11.0, 8.0, 8.0, 9.0, 6.0, 9.0, 11.0, 10.0, 5.0, 7.0, 5.0, 5.0, 12.0, 6.0, 6.0, 10.75801944732666, 7.182906150817871, 21.016502380371094, 2.8927714824676514, 10.181251525878906, 2.177748918533325, 2.1777493953704834, 2.1777493953704834, 2.1777493953704834, 2.1777496337890625, 4.368905067443848, 62.761268615722656, 3.6386187076568604, 3.6480114459991455, 5.155816555023193, 1.4627270698547363, 1.4627270698547363, 1.4627269506454468, 1.4627269506454468, 1.4627269506454468, 1.4627269506454468, 1.4627269506454468, 1.4627269506454468, 1.4627271890640259, 1.4627269506454468, 1.4627269506454468, 1.4627270698547363, 1.4627269506454468, 1.4627269506454468, 1.4627269506454468, 12.483536720275879, 1.4627270698547363, 1.4627270698547363, 4.403261661529541, 2.93298077583313, 11.79671859741211, 9.563568115234375, 9.968976020812988, 5.318432331085205, 6.0114593505859375, 6.064293384552002, 10.703428268432617, 3.6138408184051514, 5.224061012268066, 2.212728500366211, 2.2578628063201904, 2.2578628063201904, 3.1331264972686768, 3.1331238746643066, 2.3379855155944824, 2.3379855155944824, 2.3379693031311035, 2.337965250015259, 9.968976020812988, 3.8942220211029053, 1.5428454875946045, 1.5428454875946045, 1.5428454875946045, 1.5428454875946045, 1.5428454875946045, 1.5428454875946045, 1.5428454875946045, 1.5428454875946045, 1.5428454875946045, 1.5428454875946045, 1.5428454875946045, 1.5428454875946045, 1.5428454875946045, 1.5428454875946045, 1.5428454875946045, 1.5428454875946045, 1.5428454875946045, 1.5428454875946045, 1.5428454875946045, 1.5428454875946045, 1.5428452491760254, 1.5428451299667358, 1.5428452491760254, 1.5428451299667358, 1.5428451299667358, 1.5428452491760254, 1.5428454875946045, 1.5428452491760254, 1.5428454875946045, 3.0932271480560303, 3.099090576171875, 10.703428268432617, 1.5428452491760254, 1.5428452491760254, 1.5428454875946045, 1.5428452491760254, 5.318432331085205, 5.3419342041015625, 25.191421508789062, 1.5428454875946045, 1.5428454875946045, 1.5428454875946045, 1.5428454875946045, 8.461600303649902, 6.064293384552002, 3.8484699726104736, 23.56378936767578, 6.848941326141357, 15.70581340789795, 11.955536842346191, 1.5428451299667358, 5.155816555023193, 3.7208149433135986, 3.034519672393799, 3.0591986179351807, 2.3039357662200928, 2.292850971221924, 2.2578723430633545, 2.2578718662261963, 2.2599375247955322, 28.111120223999023, 3.031022548675537, 2.269916534423828, 2.269916534423828, 2.269916534423828, 2.269916534423828, 2.269916534423828, 2.269916534423828, 2.269916534423828, 2.269916534423828, 2.269916534423828, 2.269916296005249, 2.2699100971221924, 2.2698922157287598, 9.83730411529541, 10.564919471740723, 3.773224115371704, 3.826094150543213, 7.503777503967285, 1.5088107585906982, 1.5088107585906982, 1.5088107585906982, 1.5088107585906982, 1.5088107585906982, 1.5088107585906982, 1.5088107585906982, 1.5088107585906982, 1.5088106393814087, 1.5088106393814087, 1.5088107585906982, 2.98494291305542, 2.987008571624756, 3.0121235847473145, 3.019918203353882, 3.025148630142212, 11.955536842346191, 6.0114593505859375, 3.8202991485595703, 6.848941326141357, 12.483536720275879, 21.016502380371094, 8.461600303649902, 10.181251525878906, 10.703428268432617, 6.03438663482666, 6.034387111663818, 6.034384250640869, 4.523906707763672, 3.013425827026367, 3.0134081840515137, 11.305364608764648, 2.2581846714019775, 2.2581844329833984, 4.56380033493042, 6.011945724487305, 3.755629777908325, 5.224061012268066, 1.5029451847076416, 1.5029451847076416, 1.5029451847076416, 1.5029451847076416, 1.5029451847076416, 1.502945065498352, 1.5029451847076416, 1.502945065498352, 1.502945065498352, 1.5029451847076416, 1.502945065498352, 1.5029451847076416, 1.5029451847076416, 1.5029451847076416, 1.5029451847076416, 1.5029451847076416, 1.5029451847076416, 1.5029451847076416, 1.5029453039169312, 1.502945065498352, 1.5029453039169312, 1.5029451847076416, 1.5029451847076416, 1.502945065498352, 1.5029451847076416, 1.5029451847076416, 1.5029451847076416, 1.5029451847076416, 1.5029451847076416, 1.502945065498352, 1.5029451847076416, 3.8484699726104736, 1.5029451847076416, 10.453287124633789, 1.5029451847076416, 1.5029453039169312, 1.5029453039169312, 4.403261661529541, 28.111120223999023, 6.848941326141357, 62.761268615722656, 15.70581340789795, 1.5029451847076416, 2.2487776279449463, 2.217968463897705, 2.2640390396118164, 12.681010246276855, 4.476862907409668, 8.175226211547852, 3.7310314178466797, 3.731029748916626, 8.957632064819336, 6.017810344696045, 2.239367723464966, 2.239367723464966, 2.239368200302124, 15.70581340789795, 11.79671859741211, 1.4935364723205566, 1.4935364723205566, 1.4935364723205566, 1.4935364723205566, 1.493536353111267, 1.4935364723205566, 1.4935364723205566, 1.4935364723205566, 1.493536353111267, 1.493536353111267, 1.493536353111267, 1.493536353111267, 1.493536353111267, 1.493536353111267, 1.493536353111267, 1.493536353111267, 1.493536353111267, 1.493536353111267, 3.0004687309265137, 3.000476360321045, 1.493536353111267, 1.493536353111267, 3.034508228302002, 3.034519672393799, 1.493536353111267, 9.563568115234375, 3.7117040157318115, 62.761268615722656, 5.3419342041015625, 12.483536720275879, 2.2435402870178223, 2.9638001918792725, 3.7208149433135986, 3.6386187076568604, 2.971724271774292, 2.248776912689209, 2.254642963409424, 9.352775573730469, 23.745813369750977, 6.484418869018555, 8.660798072814941, 2.8989717960357666, 2.8989784717559814, 2.181882858276367, 2.181896924972534, 4.362026691436768, 3.6138408184051514, 1.4647940397262573, 1.4647940397262573, 1.4647940397262573, 1.4647940397262573, 1.4647940397262573, 1.4647940397262573, 1.4647940397262573, 1.4647940397262573, 1.4647940397262573, 1.4647939205169678, 1.4647940397262573, 1.4647939205169678, 1.4647941589355469, 1.4647977352142334, 1.4647969007492065, 1.4647969007492065, 1.4647940397262573, 1.464800477027893, 1.464802622795105, 1.464802622795105, 1.464802622795105, 4.383398532867432, 2.9371273517608643, 2.9770164489746094, 11.955536842346191, 62.761268615722656, 15.70581340789795, 7.503777503967285, 2.971724271774292, 2.210625410079956, 2.2599308490753174, 5.200942516326904, 5.200940132141113, 3.7165303230285645, 2.9743237495422363, 2.974322557449341, 2.2321174144744873, 2.2321174144744873, 10.453287124633789, 3.7694404125213623, 1.4899113178253174, 1.4899113178253174, 1.4899113178253174, 1.4899113178253174, 1.4899113178253174, 1.4899113178253174, 1.4899113178253174, 1.4899111986160278, 1.4899111986160278, 1.4899111986160278, 1.4899111986160278, 1.4899111986160278, 1.4899111986160278, 1.4899111986160278, 1.4899111986160278, 1.4899111986160278, 1.4899111986160278, 1.4899111986160278, 1.4899111986160278, 1.4899111986160278, 1.4899115562438965, 1.4899115562438965, 2.9932172298431396, 3.702382802963257, 3.744349956512451, 3.7484614849090576, 10.564919471740723, 4.383398532867432, 9.563568115234375, 10.703428268432617, 1.4899115562438965, 8.227983474731445, 9.83730411529541, 23.745813369750977, 4.362026691436768, 3.755629777908325, 2.2049357891082764, 2.2049357891082764, 3.773224115371704, 2.2070016860961914, 2.2451512813568115, 2.251016616821289, 2.2510170936584473, 2.207000494003296, 5.247734069824219, 4.497727870941162, 23.56378936767578, 2.2477145195007324, 2.2477145195007324, 2.2477145195007324, 2.247711658477783, 2.247715473175049, 8.227983474731445, 25.191421508789062, 3.752958297729492, 5.288665771484375, 1.4977097511291504, 1.4977095127105713, 1.4977095127105713, 1.4977095127105713, 1.49770987033844, 1.4977061748504639, 1.4977061748504639, 1.4977071285247803, 3.803953170776367, 2.212728500366211, 2.2435402870178223, 2.2928500175476074, 2.292850971221924, 2.292850971221924, 3.019918203353882, 8.461600303649902, 11.305364608764648, 1.4648338556289673], \"Category\": [\"Default\", \"Default\", \"Default\", \"Default\", \"Default\", \"Default\", \"Default\", \"Default\", \"Default\", \"Default\", \"Default\", \"Default\", \"Default\", \"Default\", \"Default\", \"Default\", \"Default\", \"Default\", \"Default\", \"Default\", \"Default\", \"Default\", \"Default\", \"Default\", \"Default\", \"Default\", \"Default\", \"Default\", \"Default\", \"Default\", \"Topic1\", \"Topic1\", \"Topic1\", \"Topic1\", \"Topic1\", \"Topic1\", \"Topic1\", \"Topic1\", \"Topic1\", \"Topic1\", \"Topic1\", \"Topic1\", \"Topic1\", \"Topic1\", \"Topic1\", \"Topic1\", \"Topic1\", \"Topic1\", \"Topic1\", \"Topic1\", \"Topic1\", \"Topic1\", \"Topic1\", \"Topic1\", \"Topic1\", \"Topic1\", \"Topic1\", \"Topic1\", \"Topic1\", \"Topic1\", \"Topic1\", \"Topic1\", \"Topic1\", \"Topic1\", \"Topic1\", \"Topic1\", \"Topic1\", \"Topic1\", \"Topic1\", \"Topic1\", \"Topic1\", \"Topic1\", \"Topic1\", \"Topic1\", \"Topic1\", \"Topic1\", \"Topic1\", \"Topic2\", \"Topic2\", \"Topic2\", \"Topic2\", \"Topic2\", \"Topic2\", \"Topic2\", \"Topic2\", \"Topic2\", \"Topic2\", \"Topic2\", \"Topic2\", \"Topic2\", \"Topic2\", \"Topic2\", \"Topic2\", \"Topic2\", \"Topic2\", \"Topic2\", \"Topic2\", \"Topic2\", \"Topic2\", \"Topic2\", \"Topic2\", \"Topic2\", \"Topic2\", \"Topic2\", \"Topic2\", \"Topic2\", \"Topic2\", \"Topic2\", \"Topic2\", \"Topic2\", \"Topic2\", \"Topic2\", \"Topic2\", \"Topic2\", \"Topic2\", \"Topic2\", \"Topic2\", \"Topic2\", \"Topic2\", \"Topic2\", \"Topic2\", \"Topic2\", \"Topic2\", \"Topic2\", \"Topic2\", \"Topic2\", \"Topic2\", \"Topic2\", \"Topic2\", \"Topic2\", \"Topic2\", \"Topic2\", \"Topic2\", \"Topic2\", \"Topic2\", \"Topic2\", \"Topic2\", \"Topic2\", \"Topic2\", \"Topic2\", \"Topic2\", \"Topic2\", \"Topic2\", \"Topic2\", \"Topic2\", \"Topic3\", \"Topic3\", \"Topic3\", \"Topic3\", \"Topic3\", \"Topic3\", \"Topic3\", \"Topic3\", \"Topic3\", \"Topic3\", \"Topic3\", \"Topic3\", \"Topic3\", \"Topic3\", \"Topic3\", \"Topic3\", \"Topic3\", \"Topic3\", \"Topic3\", \"Topic3\", \"Topic3\", \"Topic3\", \"Topic3\", \"Topic3\", \"Topic3\", \"Topic3\", \"Topic3\", \"Topic3\", \"Topic3\", \"Topic3\", \"Topic3\", \"Topic3\", \"Topic3\", \"Topic3\", \"Topic3\", \"Topic3\", \"Topic3\", \"Topic3\", \"Topic3\", \"Topic3\", \"Topic3\", \"Topic3\", \"Topic3\", \"Topic3\", \"Topic4\", \"Topic4\", \"Topic4\", \"Topic4\", \"Topic4\", \"Topic4\", \"Topic4\", \"Topic4\", \"Topic4\", \"Topic4\", \"Topic4\", \"Topic4\", \"Topic4\", \"Topic4\", \"Topic4\", \"Topic4\", \"Topic4\", \"Topic4\", \"Topic4\", \"Topic4\", \"Topic4\", \"Topic4\", \"Topic4\", \"Topic4\", \"Topic4\", \"Topic4\", \"Topic4\", \"Topic4\", \"Topic4\", \"Topic4\", \"Topic4\", \"Topic4\", \"Topic4\", \"Topic4\", \"Topic4\", \"Topic4\", \"Topic4\", \"Topic4\", \"Topic4\", \"Topic4\", \"Topic4\", \"Topic4\", \"Topic4\", \"Topic4\", \"Topic4\", \"Topic4\", \"Topic4\", \"Topic4\", \"Topic4\", \"Topic4\", \"Topic4\", \"Topic4\", \"Topic4\", \"Topic4\", \"Topic4\", \"Topic4\", \"Topic4\", \"Topic4\", \"Topic4\", \"Topic5\", \"Topic5\", \"Topic5\", \"Topic5\", \"Topic5\", \"Topic5\", \"Topic5\", \"Topic5\", \"Topic5\", \"Topic5\", \"Topic5\", \"Topic5\", \"Topic5\", \"Topic5\", \"Topic5\", \"Topic5\", \"Topic5\", \"Topic5\", \"Topic5\", \"Topic5\", \"Topic5\", \"Topic5\", \"Topic5\", \"Topic5\", \"Topic5\", \"Topic5\", \"Topic5\", \"Topic5\", \"Topic5\", \"Topic5\", \"Topic5\", \"Topic5\", \"Topic5\", \"Topic5\", \"Topic5\", \"Topic5\", \"Topic5\", \"Topic5\", \"Topic5\", \"Topic5\", \"Topic5\", \"Topic5\", \"Topic5\", \"Topic5\", \"Topic5\", \"Topic5\", \"Topic5\", \"Topic5\", \"Topic5\", \"Topic6\", \"Topic6\", \"Topic6\", \"Topic6\", \"Topic6\", \"Topic6\", \"Topic6\", \"Topic6\", \"Topic6\", \"Topic6\", \"Topic6\", \"Topic6\", \"Topic6\", \"Topic6\", \"Topic6\", \"Topic6\", \"Topic6\", \"Topic6\", \"Topic6\", \"Topic6\", \"Topic6\", \"Topic6\", \"Topic6\", \"Topic6\", \"Topic6\", \"Topic6\", \"Topic6\", \"Topic6\", \"Topic6\", \"Topic6\", \"Topic6\", \"Topic6\", \"Topic6\", \"Topic6\", \"Topic6\", \"Topic6\", \"Topic6\", \"Topic6\", \"Topic6\", \"Topic6\", \"Topic6\", \"Topic7\", \"Topic7\", \"Topic7\", \"Topic7\", \"Topic7\", \"Topic7\", \"Topic7\", \"Topic7\", \"Topic7\", \"Topic7\", \"Topic7\", \"Topic7\", \"Topic7\", \"Topic7\", \"Topic7\", \"Topic7\", \"Topic7\", \"Topic7\", \"Topic7\", \"Topic7\", \"Topic7\", \"Topic7\", \"Topic7\", \"Topic7\", \"Topic7\", \"Topic7\", \"Topic7\", \"Topic7\", \"Topic7\", \"Topic7\", \"Topic7\", \"Topic7\", \"Topic7\", \"Topic7\", \"Topic7\", \"Topic7\", \"Topic7\", \"Topic7\", \"Topic7\", \"Topic7\", \"Topic7\", \"Topic7\", \"Topic7\", \"Topic7\", \"Topic7\", \"Topic7\", \"Topic7\", \"Topic7\", \"Topic7\", \"Topic7\", \"Topic7\", \"Topic7\", \"Topic7\", \"Topic8\", \"Topic8\", \"Topic8\", \"Topic8\", \"Topic8\", \"Topic8\", \"Topic8\", \"Topic8\", \"Topic8\", \"Topic8\", \"Topic8\", \"Topic8\", \"Topic8\", \"Topic8\", \"Topic8\", \"Topic8\", \"Topic8\", \"Topic8\", \"Topic8\", \"Topic8\", \"Topic8\", \"Topic8\", \"Topic8\", \"Topic8\", \"Topic8\", \"Topic8\", \"Topic8\", \"Topic8\", \"Topic8\", \"Topic8\"], \"logprob\": [30.0, 29.0, 28.0, 27.0, 26.0, 25.0, 24.0, 23.0, 22.0, 21.0, 20.0, 19.0, 18.0, 17.0, 16.0, 15.0, 14.0, 13.0, 12.0, 11.0, 10.0, 9.0, 8.0, 7.0, 6.0, 5.0, 4.0, 3.0, 2.0, 1.0, -2.9402999877929688, -3.3773000240325928, -2.464200019836426, -4.448800086975098, -3.2732999324798584, -4.834499835968018, -4.834499835968018, -4.834499835968018, -4.834499835968018, -4.834499835968018, -4.171199798583984, -1.5981999635696411, -4.448999881744385, -4.44890022277832, -4.203999996185303, -5.4704999923706055, -5.4704999923706055, -5.4704999923706055, -5.4704999923706055, -5.4704999923706055, -5.4704999923706055, -5.4704999923706055, -5.4704999923706055, -5.4704999923706055, -5.4704999923706055, -5.4704999923706055, -5.4704999923706055, -5.4704999923706055, -5.4704999923706055, -5.4704999923706055, -3.422800064086914, -5.4704999923706055, -5.4704999923706055, -4.44890022277832, -4.834400177001953, -3.9540998935699463, -4.171199798583984, -4.17140007019043, -4.83459997177124, -4.834700107574463, -4.83459997177124, -4.83519983291626, -5.4054999351501465, -5.412199974060059, -5.470399856567383, -5.470399856567383, -5.470399856567383, -4.214600086212158, -4.214600086212158, -4.600299835205078, -4.600299835205078, -4.600399971008301, -4.600399971008301, -3.259000062942505, -4.214600086212158, -5.236299991607666, -5.236299991607666, -5.236299991607666, -5.236299991607666, -5.236299991607666, -5.236299991607666, -5.236299991607666, -5.236299991607666, -5.236299991607666, -5.236299991607666, -5.236299991607666, -5.236299991607666, -5.236299991607666, -5.236299991607666, -5.236299991607666, -5.236299991607666, -5.236299991607666, -5.236299991607666, -5.236299991607666, -5.236299991607666, -5.236299991607666, -5.236299991607666, -5.236299991607666, -5.236299991607666, -5.236299991607666, -5.236299991607666, -5.236299991607666, -5.236299991607666, -5.236299991607666, -4.600299835205078, -4.600299835205078, -3.541599988937378, -5.236299991607666, -5.236299991607666, -5.236299991607666, -5.236299991607666, -4.2144999504089355, -4.2144999504089355, -3.0390000343322754, -5.236299991607666, -5.236299991607666, -5.236299991607666, -5.236299991607666, -3.937000036239624, -4.214300155639648, -4.600299835205078, -3.390500068664551, -4.600100040435791, -4.506800174713135, -4.600599765777588, -5.236299991607666, -5.124300003051758, -5.236100196838379, -5.236100196838379, -5.236100196838379, -5.236199855804443, -5.236199855804443, -5.236199855804443, -5.236199855804443, -5.236199855804443, -1.9902000427246094, -4.249300003051758, -4.635000228881836, -4.635000228881836, -4.635000228881836, -4.635000228881836, -4.635000228881836, -4.635000228881836, -4.635000228881836, -4.635000228881836, -4.635000228881836, -4.635000228881836, -4.635000228881836, -4.635700225830078, -3.1777000427246094, -3.186800003051758, -4.2494001388549805, -4.249199867248535, -3.5762999057769775, -5.270999908447266, -5.270999908447266, -5.270999908447266, -5.270999908447266, -5.270999908447266, -5.270999908447266, -5.270999908447266, -5.270999908447266, -5.270999908447266, -5.270999908447266, -5.270999908447266, -4.634900093078613, -4.634900093078613, -4.634900093078613, -4.635000228881836, -4.635000228881836, -3.466399908065796, -4.249199867248535, -4.634900093078613, -4.249100208282471, -3.8778998851776123, -3.6821000576019287, -4.249300003051758, -4.249199867248535, -4.496799945831299, -3.414799928665161, -3.414799928665161, -3.414799928665161, -3.74429988861084, -4.238999843597412, -4.239099979400635, -2.9691998958587646, -4.624599933624268, -4.624800205230713, -3.9612998962402344, -3.74429988861084, -4.238999843597412, -3.9612998962402344, -5.2606000900268555, -5.2606000900268555, -5.2606000900268555, -5.2606000900268555, -5.2606000900268555, -5.2606000900268555, -5.2606000900268555, -5.2606000900268555, -5.2606000900268555, -5.2606000900268555, -5.2606000900268555, -5.2606000900268555, -5.2606000900268555, -5.2606000900268555, -5.2606000900268555, -5.2606000900268555, -5.2606000900268555, -5.2606000900268555, -5.2606000900268555, -5.2606000900268555, -5.2606000900268555, -5.2606000900268555, -5.2606000900268555, -5.2606000900268555, -5.2606000900268555, -5.2606000900268555, -5.2606000900268555, -5.2606000900268555, -5.2606000900268555, -5.2606000900268555, -5.2606000900268555, -4.62470006942749, -5.2606000900268555, -3.961400032043457, -5.2606000900268555, -5.2606000900268555, -5.2606000900268555, -4.624599933624268, -3.5332999229431152, -4.62470006942749, -3.8785998821258545, -4.624800205230713, -5.2606000900268555, -5.2606000900268555, -5.2606000900268555, -5.2606000900268555, -2.547300100326538, -3.6935999393463135, -3.1166000366210938, -3.910599946975708, -3.9107000827789307, -3.1166000366210938, -3.5153000354766846, -4.57390022277832, -4.57390022277832, -4.574100017547607, -2.7690999507904053, -3.11899995803833, -5.20989990234375, -5.20989990234375, -5.20989990234375, -5.20989990234375, -5.20989990234375, -5.20989990234375, -5.20989990234375, -5.20989990234375, -5.20989990234375, -5.20989990234375, -5.20989990234375, -5.20989990234375, -5.20989990234375, -5.20989990234375, -5.20989990234375, -5.20989990234375, -5.20989990234375, -5.20989990234375, -4.573800086975098, -4.573999881744385, -5.20989990234375, -5.20989990234375, -4.57390022277832, -4.573999881744385, -5.20989990234375, -3.693700075149536, -4.573800086975098, -3.0065999031066895, -4.573800086975098, -4.188000202178955, -5.209700107574463, -5.209799766540527, -5.209799766540527, -5.20989990234375, -5.20989990234375, -5.20989990234375, -5.20989990234375, -2.846100091934204, -1.9372999668121338, -3.2464001178741455, -3.0262999534606934, -4.202000141143799, -4.202000141143799, -4.587600231170654, -4.587800025939941, -3.961199998855591, -4.226399898529053, -5.223599910736084, -5.223599910736084, -5.223599910736084, -5.223599910736084, -5.223599910736084, -5.223599910736084, -5.223599910736084, -5.223599910736084, -5.223599910736084, -5.223599910736084, -5.223599910736084, -5.223599910736084, -5.223599910736084, -5.223599910736084, -5.223599910736084, -5.223599910736084, -5.223599910736084, -5.223700046539307, -5.223800182342529, -5.223800182342529, -5.223800182342529, -4.202000141143799, -4.587600231170654, -4.587500095367432, -3.4828999042510986, -2.463599920272827, -4.202000141143799, -4.587800025939941, -5.223499774932861, -5.223499774932861, -5.223499774932861, -3.2922000885009766, -3.2922000885009766, -3.6875, -3.965100049972534, -3.965100049972534, -4.350800037384033, -4.350800037384033, -2.9214999675750732, -3.9649999141693115, -4.986700057983398, -4.986700057983398, -4.986700057983398, -4.986700057983398, -4.986700057983398, -4.986700057983398, -4.986700057983398, -4.986700057983398, -4.986700057983398, -4.986700057983398, -4.986700057983398, -4.986700057983398, -4.986700057983398, -4.986700057983398, -4.986700057983398, -4.986700057983398, -4.986700057983398, -4.986700057983398, -4.986700057983398, -4.986700057983398, -4.986700057983398, -4.986700057983398, -4.350599765777588, -4.350599765777588, -4.350800037384033, -4.3506999015808105, -3.66759991645813, -4.3506999015808105, -3.964900016784668, -4.070799827575684, -4.986700057983398, -4.350599765777588, -4.350599765777588, -4.3317999839782715, -4.8618998527526855, -4.986599922180176, -4.986700057983398, -4.986700057983398, -4.986700057983398, -4.986700057983398, -4.986700057983398, -4.986700057983398, -4.986700057983398, -4.986700057983398, -3.218899965286255, -3.397200107574463, -1.8904000520706177, -4.277500152587891, -4.277500152587891, -4.277500152587891, -4.277599811553955, -4.277599811553955, -3.067699909210205, -1.9808000326156616, -3.891900062561035, -3.6140999794006348, -4.91349983215332, -4.91349983215332, -4.91349983215332, -4.91349983215332, -4.91349983215332, -4.913599967956543, -4.913599967956543, -4.914100170135498, -4.277599811553955, -4.913599967956543, -4.913700103759766, -4.91349983215332, -4.91349983215332, -4.913700103759766, -4.913700103759766, -3.891900062561035, -3.8919999599456787, -7.101099967956543], \"loglift\": [30.0, 29.0, 28.0, 27.0, 26.0, 25.0, 24.0, 23.0, 22.0, 21.0, 20.0, 19.0, 18.0, 17.0, 16.0, 15.0, 14.0, 13.0, 12.0, 11.0, 10.0, 9.0, 8.0, 7.0, 6.0, 5.0, 4.0, 3.0, 2.0, 1.0, 1.798799991607666, 1.7657999992370605, 1.605299949645996, 1.603700041770935, 1.520900011062622, 1.5019999742507935, 1.5019999742507935, 1.5019999742507935, 1.5019999742507935, 1.5018999576568604, 1.468999981880188, 1.3772000074386597, 1.3741999864578247, 1.3717000484466553, 1.2705999612808228, 1.2640000581741333, 1.2640000581741333, 1.2640000581741333, 1.2640000581741333, 1.2640000581741333, 1.2640000581741333, 1.2640000581741333, 1.2640000581741333, 1.2640000581741333, 1.2640000581741333, 1.2640000581741333, 1.2640000581741333, 1.2640000581741333, 1.2640000581741333, 1.2640000581741333, 1.1675000190734863, 1.2640000581741333, 1.2640000581741333, 1.183500051498413, 1.2043999433517456, 0.692799985408783, 0.6855999827384949, 0.6438999772071838, 0.609000027179718, 0.4864000082015991, 0.47780001163482666, -0.09099999815225601, 0.4244999885559082, 0.049300000071525574, 0.8500999808311462, 0.8299000263214111, 0.8299000263214111, 1.7581000328063965, 1.7581000328063965, 1.6651999950408936, 1.6651999950408936, 1.6650999784469604, 1.6650999784469604, 1.5563000440597534, 1.5406999588012695, 1.4449000358581543, 1.4449000358581543, 1.4449000358581543, 1.4449000358581543, 1.4449000358581543, 1.4449000358581543, 1.4449000358581543, 1.4449000358581543, 1.4449000358581543, 1.4449000358581543, 1.4449000358581543, 1.4449000358581543, 1.4449000358581543, 1.4449000358581543, 1.4449000358581543, 1.4449000358581543, 1.4449000358581543, 1.4449000358581543, 1.4449000358581543, 1.4449000358581543, 1.4449000358581543, 1.4449000358581543, 1.4449000358581543, 1.4449000358581543, 1.4449000358581543, 1.4449000358581543, 1.4449000358581543, 1.4449000358581543, 1.4449000358581543, 1.3853000402450562, 1.3833999633789062, 1.2026000022888184, 1.4449000358581543, 1.4449000358581543, 1.4449000358581543, 1.4449000358581543, 1.229099988937378, 1.2246999740600586, 0.8492000102996826, 1.4449000358581543, 1.4449000358581543, 1.4449000358581543, 1.4449000358581543, 1.042199969291687, 1.098099946975708, 1.1668000221252441, 0.5645999908447266, 0.5906000137329102, -0.1460999995470047, 0.032999999821186066, 1.4449000358581543, 0.35030001401901245, 0.5648000240325928, 0.7687000036239624, 0.7605000138282776, 1.0440000295639038, 1.048799991607666, 1.0641000270843506, 1.0641000270843506, 1.0631999969482422, 1.7884000539779663, 1.756600022315979, 1.660099983215332, 1.660099983215332, 1.660099983215332, 1.660099983215332, 1.660099983215332, 1.660099983215332, 1.660099983215332, 1.660099983215332, 1.660099983215332, 1.660099983215332, 1.659999966621399, 1.6592999696731567, 1.6509000062942505, 1.5703999996185303, 1.537500023841858, 1.5236999988555908, 1.5231000185012817, 1.4325000047683716, 1.4325000047683716, 1.4325000047683716, 1.4325000047683716, 1.4325000047683716, 1.4325000047683716, 1.4325000047683716, 1.4325000047683716, 1.4325000047683716, 1.4325000047683716, 1.4325000047683716, 1.386299967765808, 1.385599970817566, 1.3772000074386597, 1.374500036239624, 1.3727999925613403, 1.167199969291687, 1.0719000101089478, 1.1395000219345093, 0.9416000247001648, 0.7124999761581421, 0.3873000144958496, 0.7299000024795532, 0.5450000166893005, 0.24740000069141388, 1.902500033378601, 1.902500033378601, 1.902500033378601, 1.8610999584197998, 1.7726999521255493, 1.7726000547409058, 1.7202999591827393, 1.6756000518798828, 1.6755000352859497, 1.6353000402450562, 1.57669997215271, 1.5525000095367432, 1.5002000331878662, 1.4466999769210815, 1.4466999769210815, 1.4466999769210815, 1.4466999769210815, 1.4466999769210815, 1.4466999769210815, 1.4466999769210815, 1.4466999769210815, 1.4466999769210815, 1.4466999769210815, 1.4466999769210815, 1.4466999769210815, 1.4466999769210815, 1.4466999769210815, 1.4466999769210815, 1.4466999769210815, 1.4466999769210815, 1.4466999769210815, 1.4466999769210815, 1.4466999769210815, 1.4466999769210815, 1.4466999769210815, 1.4466999769210815, 1.4466999769210815, 1.4466999769210815, 1.4466999769210815, 1.4466999769210815, 1.4466999769210815, 1.4466999769210815, 1.4466999769210815, 1.4466999769210815, 1.1424000263214111, 1.4466999769210815, 0.8065000176429749, 1.4466999769210815, 1.4466999769210815, 1.4466999769210815, 1.0078999996185303, 0.24529999494552612, 0.5659999847412109, -0.9031000137329102, -0.26409998536109924, 1.4466999769210815, 1.0437999963760376, 1.0576000213623047, 1.0369999408721924, 2.0272998809814453, 1.9222999811172485, 1.8969999551773071, 1.8874000310897827, 1.8874000310897827, 1.8056000471115112, 1.804800033569336, 1.7345999479293823, 1.7345999479293823, 1.7345000505447388, 1.591599941253662, 1.527999997138977, 1.5037000179290771, 1.5037000179290771, 1.5037000179290771, 1.5037000179290771, 1.5037000179290771, 1.5037000179290771, 1.5037000179290771, 1.5037000179290771, 1.5037000179290771, 1.5037000179290771, 1.5037000179290771, 1.5037000179290771, 1.5037000179290771, 1.5037000179290771, 1.5037000179290771, 1.5037000179290771, 1.5037000179290771, 1.5037000179290771, 1.442199945449829, 1.4420000314712524, 1.5037000179290771, 1.5037000179290771, 1.430799961090088, 1.4306999444961548, 1.5037000179290771, 1.163100004196167, 1.2295000553131104, -0.031199999153614044, 0.8654000163078308, 0.40230000019073486, 1.097000002861023, 0.8184999823570251, 0.5910000205039978, 0.6133000254631042, 0.8156999945640564, 1.094499945640564, 1.0918999910354614, 2.0329999923706055, 2.009999990463257, 1.9989999532699585, 1.9297000169754028, 1.8485000133514404, 1.8485000133514404, 1.746999979019165, 1.7467999458312988, 1.6806000471115112, 1.603600025177002, 1.5095000267028809, 1.5095000267028809, 1.5095000267028809, 1.5095000267028809, 1.5095000267028809, 1.5095000267028809, 1.5095000267028809, 1.5095000267028809, 1.5095000267028809, 1.5095000267028809, 1.5095000267028809, 1.5095000267028809, 1.5095000267028809, 1.5094000101089478, 1.5094000101089478, 1.5094000101089478, 1.5094000101089478, 1.5092999935150146, 1.5092999935150146, 1.5092999935150146, 1.5092999935150146, 1.4349000453948975, 1.4496999979019165, 1.4363000392913818, 1.1506999731063843, 0.5117999911308289, 0.15870000422000885, 0.5116000175476074, 0.8021000027656555, 1.0980000495910645, 1.0758999586105347, 2.173799991607666, 2.173799991607666, 2.114500045776367, 2.0597000122070312, 2.0596001148223877, 1.9610999822616577, 1.9610999822616577, 1.8463000059127808, 1.8228000402450562, 1.7293000221252441, 1.7293000221252441, 1.7293000221252441, 1.7293000221252441, 1.7293000221252441, 1.7293000221252441, 1.7293000221252441, 1.7293000221252441, 1.7293000221252441, 1.7293000221252441, 1.7293000221252441, 1.7293000221252441, 1.7293000221252441, 1.7293000221252441, 1.7293000221252441, 1.7293000221252441, 1.7293000221252441, 1.7293000221252441, 1.7293000221252441, 1.7293000221252441, 1.7293000221252441, 1.7293000221252441, 1.667799949645996, 1.455199956893921, 1.4436999559402466, 1.4428000450134277, 1.0895999670028687, 1.2862999439239502, 0.8919000029563904, 0.6733999848365784, 1.7293000221252441, 0.6565999984741211, 0.4779999852180481, -0.38440001010894775, 0.7799000144004822, 0.8048999905586243, 1.337399959564209, 1.337399959564209, 0.8001000285148621, 1.336400032043457, 1.3193000555038452, 1.3166999816894531, 1.3166999816894531, 1.336400032043457, 2.23799991607666, 2.2139999866485596, 2.0645999908447266, 2.0272998809814453, 2.0272998809814453, 2.0272998809814453, 2.0272998809814453, 2.0271999835968018, 1.9394999742507935, 1.9074000120162964, 1.9003000259399414, 1.8351000547409058, 1.7972999811172485, 1.7972999811172485, 1.7972999811172485, 1.7972999811172485, 1.7972999811172485, 1.7971999645233154, 1.7971999645233154, 1.7967000007629395, 1.501099944114685, 1.4069000482559204, 1.3930000066757202, 1.371399998664856, 1.371399998664856, 1.3712999820709229, 1.0958000421524048, 1.0872999429702759, 0.7975000143051147, -0.36809998750686646]}, \"token.table\": {\"Topic\": [3, 4, 5, 7, 1, 5, 2, 2, 1, 2, 4, 7, 7, 1, 8, 5, 5, 3, 7, 3, 3, 4, 5, 2, 4, 6, 7, 3, 6, 7, 4, 4, 2, 6, 4, 5, 7, 4, 5, 6, 6, 1, 4, 7, 5, 4, 6, 1, 3, 2, 3, 6, 2, 2, 2, 6, 7, 4, 3, 5, 4, 1, 4, 5, 6, 4, 8, 5, 4, 1, 2, 4, 4, 2, 5, 1, 4, 7, 6, 1, 2, 4, 6, 1, 3, 7, 4, 3, 4, 6, 2, 6, 5, 2, 3, 5, 6, 2, 2, 5, 6, 7, 2, 3, 4, 5, 1, 2, 1, 2, 2, 4, 1, 4, 3, 4, 5, 1, 2, 2, 7, 3, 6, 6, 2, 7, 2, 4, 2, 6, 3, 2, 3, 8, 1, 3, 5, 2, 6, 3, 8, 4, 7, 1, 7, 2, 3, 7, 3, 2, 5, 8, 1, 3, 6, 6, 8, 3, 6, 1, 5, 7, 7, 1, 3, 5, 1, 2, 3, 4, 2, 5, 4, 6, 2, 3, 6, 5, 6, 1, 1, 5, 7, 8, 3, 1, 4, 3, 7, 2, 3, 6, 7, 3, 7, 3, 2, 7, 2, 4, 7, 2, 3, 2, 3, 5, 2, 8, 1, 4, 4, 8, 8, 4, 3, 5, 3, 4, 2, 7, 4, 7, 7, 4, 2, 4, 1, 2, 3, 1, 6, 2, 4, 3, 4, 7, 7, 4, 5, 7, 1, 4, 7, 1, 5, 1, 4, 4, 8, 4, 6, 3, 4, 7, 3, 7, 8, 6, 2, 4, 5, 6, 1, 2, 5, 6, 4, 2, 8, 2, 2, 3, 8, 3, 8, 2, 2, 6, 7, 7, 1, 4, 7, 4, 4, 6, 1, 3, 7, 5, 6, 4, 5, 2, 6, 1, 1, 4, 5, 8, 7, 5, 6, 7, 6, 8, 7, 2, 2, 8, 2, 3, 1, 2, 1, 4, 7, 6, 4, 3, 6, 6, 7, 2, 4, 4, 7, 5, 2, 3, 4, 1, 4, 6, 1, 2, 2, 2, 1, 1, 7, 2, 3, 4, 7, 8, 2, 1, 2, 5, 3, 5, 1, 3, 2, 4, 2, 6, 5, 8, 6, 7, 3, 7, 1, 1, 2, 4, 5, 3, 2, 3, 3, 5, 2, 2, 7, 1, 8, 4, 2, 8, 1, 8, 5, 2, 6, 7, 4, 1, 5, 3, 4, 7, 4, 6, 2, 2, 4, 2, 5, 6, 1, 4, 4, 7, 2, 3, 4, 7, 1, 5, 3, 2, 5, 1, 3, 5, 4, 2, 6, 3, 7, 7, 4, 5, 7, 8, 6, 6, 1, 5, 1, 4, 5, 2, 7, 8, 3, 1, 5, 5, 7, 1, 2, 7, 1, 4, 1, 2, 8, 8, 6, 5, 3, 4, 2, 3, 4, 6, 4, 5, 5, 4, 4, 2, 5, 2, 8, 1, 2, 3, 7, 2, 8], \"Freq\": [0.8810896873474121, 0.11163664609193802, 0.7814565300941467, 0.11163664609193802, 0.6836546063423157, 0.6695518493652344, 0.6481531858444214, 0.8554372787475586, 0.442894846200943, 0.442894846200943, 0.6653602719306946, 0.6711809039115906, 0.6724217534065247, 0.4519307315349579, 0.4519307315349579, 0.6695518493652344, 0.8931090235710144, 0.6627736687660217, 0.8960102200508118, 0.8810896873474121, 0.818181574344635, 0.17786554992198944, 0.6695518493652344, 0.6465739011764526, 0.3232869505882263, 0.6826858520507812, 0.6711809635162354, 0.8810896873474121, 0.6877536773681641, 0.22925123572349548, 0.6653602719306946, 0.6653602719306946, 0.6481531262397766, 0.6826898455619812, 0.6653602123260498, 0.8931092619895935, 0.6711809039115906, 0.26941803097724915, 0.5388360619544983, 0.26941803097724915, 0.6826881170272827, 0.6836545467376709, 0.6653602123260498, 0.6711809635162354, 0.8934828042984009, 0.6653602719306946, 0.6826898455619812, 0.33501479029655457, 0.6700295805931091, 0.16728650033473969, 0.4182162582874298, 0.4182162582874298, 0.6481530666351318, 0.6481530666351318, 0.6481531262397766, 0.45626696944236755, 0.45626696944236755, 0.6653602719306946, 0.3332812488079071, 0.6665624976158142, 0.8841915130615234, 0.621402382850647, 0.047800179570913315, 0.12746715545654297, 0.20713411271572113, 0.6653603315353394, 0.8897927403450012, 0.6695518493652344, 0.6653602719306946, 0.6836546063423157, 0.6481530666351318, 0.6653603315353394, 0.6636964678764343, 0.6481530666351318, 0.6695517897605896, 0.45420876145362854, 0.45420876145362854, 0.6711809635162354, 0.6826898455619812, 0.3760506510734558, 0.3760506510734558, 0.1880253255367279, 0.6826898455619812, 0.6836546063423157, 0.8810897469520569, 0.8960102200508118, 0.6653602719306946, 0.6663310527801514, 0.13326621055603027, 0.26653242111206055, 0.3359067738056183, 0.6718135476112366, 0.6695518493652344, 0.6481530666351318, 0.3365049660205841, 0.3365049660205841, 0.3365049660205841, 0.6481530666351318, 0.3743962347507477, 0.3743962347507477, 0.18719811737537384, 0.6711809635162354, 0.6453506350517273, 0.32267531752586365, 0.4446861743927002, 0.4446861743927002, 0.6836546063423157, 0.6481531262397766, 0.44289669394493103, 0.44289669394493103, 0.8554372787475586, 0.8856671452522278, 0.6836545467376709, 0.6653603315353394, 0.8810896873474121, 0.8285845518112183, 0.9462968707084656, 0.6913784742355347, 0.6481530666351318, 0.6481531262397766, 0.8072044849395752, 0.6627736687660217, 0.6826898455619812, 0.6826898455619812, 0.6481530666351318, 0.6711809039115906, 0.6481530666351318, 0.6653602719306946, 0.4424901008605957, 0.4424901008605957, 0.8810896873474121, 0.2628844082355499, 0.2628844082355499, 0.5257688164710999, 0.339077353477478, 0.0847693383693695, 0.5933853387832642, 0.6481531262397766, 0.6826858520507812, 0.6622695922851562, 0.3311347961425781, 0.28699105978012085, 0.6696458458900452, 0.45352795720100403, 0.45352795720100403, 0.6481531858444214, 0.6639834046363831, 0.33199170231819153, 0.6627736687660217, 0.18908360600471497, 0.18908360600471497, 0.5672508478164673, 0.6875382661819458, 0.19643950462341309, 0.6898998022079468, 0.6826898455619812, 0.6676861047744751, 0.8810896873474121, 0.6826884746551514, 0.6836546063423157, 0.6695518493652344, 0.671180784702301, 0.6711809635162354, 0.7613065242767334, 0.19032663106918335, 0.6695518493652344, 0.33269792795181274, 0.16634896397590637, 0.33269792795181274, 0.16634896397590637, 0.6481530666351318, 0.6695517897605896, 0.6653602719306946, 0.6826898455619812, 0.26136314868927, 0.52272629737854, 0.6826898455619812, 0.4523606598377228, 0.4523606598377228, 0.9745359420776367, 0.3136904537677765, 0.41825392842292786, 0.20912696421146393, 0.667687714099884, 0.6627736687660217, 0.4508630335330963, 0.4508630335330963, 0.8810896873474121, 0.6711809635162354, 0.513581395149231, 0.2567906975746155, 0.4531034231185913, 0.4531034231185913, 0.5300506949424744, 0.2650253474712372, 0.8810921907424927, 0.6383405327796936, 0.6711809039115906, 0.21911562979221344, 0.6573469042778015, 0.6724220514297485, 0.6481530666351318, 0.6627736687660217, 0.6481530666351318, 0.6598433256149292, 0.8040671944618225, 0.43613824248313904, 0.43613824248313904, 0.681900143623352, 0.340950071811676, 0.2664564549922943, 0.5329129099845886, 0.889793872833252, 0.6653602719306946, 0.8810991048812866, 0.6695518493652344, 0.6611245274543762, 0.3305622637271881, 0.6481530666351318, 0.6711809635162354, 0.6653602719306946, 0.6711809039115906, 0.6711809635162354, 0.6653602719306946, 0.8554447293281555, 0.6653603315353394, 0.6836545467376709, 0.4340398907661438, 0.4340398907661438, 0.27671390771865845, 0.5534278154373169, 0.6383399963378906, 0.6653602123260498, 0.7115770578384399, 0.10165386646986008, 0.20330773293972015, 0.961364209651947, 0.6653419733047485, 0.16633549332618713, 0.16633549332618713, 0.6836546063423157, 0.5325338244438171, 0.26626691222190857, 0.12232077121734619, 0.8562453985214233, 0.6836546063423157, 0.6653603315353394, 0.7076286673545837, 0.17690716683864594, 0.6653602719306946, 0.682689905166626, 0.6627736687660217, 0.4454042911529541, 0.4454042911529541, 0.33408868312835693, 0.6681773662567139, 0.6676862239837646, 0.6826868057250977, 0.1273413896560669, 0.1273413896560669, 0.6367068886756897, 0.1273413896560669, 0.2687583267688751, 0.2687583267688751, 0.2687583267688751, 0.2687583267688751, 0.8856672644615173, 0.43613842129707336, 0.43613842129707336, 0.6481530666351318, 0.3545428514480591, 0.23636190593242645, 0.23636190593242645, 0.6627736687660217, 0.889337956905365, 0.6481530666351318, 0.2670690417289734, 0.2670690417289734, 0.5341380834579468, 0.6711809635162354, 0.2700963318347931, 0.2700963318347931, 0.5401926636695862, 0.6653602123260498, 0.8285849690437317, 0.6826897859573364, 0.9183793067932129, 0.6625701189041138, 0.2839586138725281, 0.6695517897605896, 0.6826858520507812, 0.6653602719306946, 0.6695518493652344, 0.44249141216278076, 0.44249141216278076, 0.6836546063423157, 0.33740466833114624, 0.33740466833114624, 0.33740466833114624, 0.667687714099884, 0.6711809635162354, 0.6695517897605896, 0.9264791011810303, 0.0842253714799881, 0.6826898455619812, 0.6676862239837646, 0.6711809635162354, 0.6481530666351318, 0.6481530666351318, 0.8897927403450012, 0.6481530666351318, 0.6627736687660217, 0.3009336292743683, 0.6018672585487366, 0.19142195582389832, 0.5742658972740173, 0.19142195582389832, 0.916639506816864, 0.6653602719306946, 0.6695662140846252, 0.3347831070423126, 0.8082395792007446, 0.11546280235052109, 0.6481530666351318, 0.828584611415863, 0.6653602719306946, 0.671180784702301, 0.6695517897605896, 0.26175960898399353, 0.5235192179679871, 0.26175960898399353, 0.5482438802719116, 0.2741219401359558, 0.6826898455619812, 0.6836545467376709, 0.6481530666351318, 0.6481530666351318, 0.6481530666351318, 0.6836546063423157, 0.45352795720100403, 0.45352795720100403, 0.6481531858444214, 0.8810896873474121, 0.6653603315353394, 0.6711809635162354, 0.9527921676635742, 0.8554432392120361, 0.44289493560791016, 0.44289493560791016, 0.6695518493652344, 0.4435292184352875, 0.4435292184352875, 0.6866708993911743, 0.2288902997970581, 0.5196870565414429, 0.5196870565414429, 0.6481530666351318, 0.9252949357032776, 0.44572409987449646, 0.44572409987449646, 0.4531036615371704, 0.4531036615371704, 0.4442436397075653, 0.4442436397075653, 0.6836546063423157, 0.3297993540763855, 0.3297993540763855, 0.16489967703819275, 0.16489967703819275, 0.6627736687660217, 0.6481530666351318, 0.6627736687660217, 0.33328041434288025, 0.6665608286857605, 0.6481530666351318, 0.26529136300086975, 0.5305827260017395, 0.929539144039154, 0.6676872968673706, 0.6653602719306946, 0.6481531262397766, 0.6676862239837646, 0.6836546063423157, 0.8897927403450012, 0.8931092619895935, 0.6481531262397766, 0.6898981928825378, 0.9613646268844604, 0.6653602719306946, 0.9183793067932129, 0.6695517897605896, 0.26677611470222473, 0.26677611470222473, 0.5335522294044495, 0.34046873450279236, 0.6809374690055847, 0.6481530666351318, 0.6481530666351318, 0.6653602719306946, 0.16617339849472046, 0.8308669924736023, 0.682689905166626, 0.6836545467376709, 0.6637003421783447, 0.6653602719306946, 0.6711809635162354, 0.3268829882144928, 0.3268829882144928, 0.3268829882144928, 0.671180784702301, 0.6836544871330261, 0.6695518493652344, 0.8810896873474121, 0.32954269647598267, 0.6590853929519653, 0.480633020401001, 0.2403165102005005, 0.1602110117673874, 0.6653602719306946, 0.6481531858444214, 0.9166336059570312, 0.44424372911453247, 0.44424372911453247, 0.6711809039115906, 0.6653602719306946, 0.12153646349906921, 0.24307292699813843, 0.6076822876930237, 0.9622811675071716, 0.6826884746551514, 0.918379545211792, 0.6695518493652344, 0.9183793067932129, 0.6653602719306946, 0.8040675520896912, 0.31756842136383057, 0.03969605267047882, 0.6351368427276611, 0.6627736687660217, 0.5496591329574585, 0.27482956647872925, 0.6695518493652344, 0.6711809039115906, 0.5818670988082886, 0.1939557045698166, 0.1939557045698166, 0.9183791875839233, 0.6653603315353394, 0.44289669394493103, 0.44289669394493103, 0.6676860451698303, 0.8897923231124878, 0.6826712489128113, 0.6695517897605896, 0.44168850779533386, 0.44168850779533386, 0.292015939950943, 0.292015939950943, 0.292015939950943, 0.1460079699754715, 0.44468602538108826, 0.44468602538108826, 0.6695518493652344, 0.6653602719306946, 0.6653602719306946, 0.3295414447784424, 0.6590828895568848, 0.2546279728412628, 0.7214459180831909, 0.18685601651668549, 0.4671400487422943, 0.18685601651668549, 0.18685601651668549, 0.43613824248313904, 0.43613824248313904], \"Term\": [\"%\", \"-\", \"-\", \"-\", \"1.5i\", \"130k\", \"2nd\", \"2zz\", \"3rd\", \"3rd\", \"4wd\", \"60\", \"70\", \"8th\", \"8th\", \"99k\", \"abarth\", \"able\", \"accent\", \"access\", \"accord\", \"accord\", \"acura\", \"additional\", \"additional\", \"alternator\", \"area\", \"argument\", \"ascent\", \"ascent\", \"ass\", \"auto\", \"awd\", \"backup\", \"bev\", \"big\", \"bike\", \"bit\", \"bit\", \"bit\", \"boring\", \"break\", \"brio\", \"brz\", \"budget\", \"bunch\", \"cam\", \"camry\", \"camry\", \"car\", \"car\", \"car\", \"car-\", \"cargo\", \"challenger\", \"cheap\", \"cheap\", \"chev\", \"choice\", \"choice\", \"city\", \"civic\", \"civic\", \"civic\", \"civic\", \"civicor\", \"clear\", \"comfortable\", \"compar\", \"concern\", \"condition\", \"consideration\", \"contender\", \"convertible\", \"cool\", \"corolla\", \"corolla\", \"cost\", \"coup\", \"coupe\", \"coupe\", \"coupe\", \"cpo\", \"crack\", \"crossover\", \"crown\", \"cruze\", \"crv\", \"crv\", \"crv\", \"current\", \"current\", \"day\", \"decent\", \"different\", \"different\", \"different\", \"dog\", \"door\", \"door\", \"door\", \"dream\", \"drive\", \"drive\", \"driver\", \"driver\", \"due\", \"duster\", \"e\", \"e\", \"e36\", \"early\", \"easy\", \"echo\", \"economy\", \"element\", \"ex\", \"expensive\", \"experience\", \"f250\", \"family\", \"fancy\", \"favorite\", \"fca\", \"feature\", \"fiat\", \"filter\", \"fine\", \"firebird\", \"firebird\", \"firsr\", \"first\", \"first\", \"first\", \"fit\", \"fit\", \"fit\", \"fitwarranty\", \"fluid\", \"focus\", \"focus\", \"forester\", \"forester\", \"fr\", \"fr\", \"ft\", \"fuel\", \"fuel\", \"full\", \"fun\", \"fun\", \"fun\", \"fusion\", \"fusion\", \"g35\", \"g37\", \"g37.1st\", \"garage\", \"garbage\", \"gas\", \"get\", \"ghia\", \"gmc\", \"golf\", \"golf\", \"golf-\", \"good\", \"good\", \"good\", \"good\", \"graduate\", \"grand\", \"great\", \"gtd\", \"gti\", \"gti\", \"guilty\", \"hard\", \"hard\", \"hatch\", \"hatchback\", \"hatchback\", \"hatchback\", \"headroom\", \"heavy\", \"high\", \"high\", \"highway\", \"horsepower\", \"hybrid\", \"hybrid\", \"idea\", \"idea\", \"insight\", \"insight\", \"insurance\", \"integra\", \"interior\", \"jazz\", \"jazz\", \"jeep\", \"job\", \"kia\", \"kid\", \"km\", \"l\", \"lancer\", \"lancer\", \"late\", \"late\", \"legacy\", \"legacy\", \"legroom\", \"likely\", \"line\", \"liter\", \"little\", \"little\", \"local\", \"look)-th\", \"looking\", \"loved\", \"low\", \"lucky\", \"luxury\", \"main\", \"maintain\", \"manual\", \"manual\", \"many\", \"many\", \"market\", \"marqu\", \"mazda\", \"mazda\", \"mazda\", \"mazda3\", \"mazda6\", \"mazda6\", \"mazda6\", \"mean\", \"mid\", \"mid\", \"mile\", \"mile\", \"mileage\", \"mitsub\", \"model\", \"model\", \"motor\", \"mpg\", \"much\", \"mustang\", \"mustang\", \"n\", \"n\", \"necessarilycan\", \"neededcan\", \"new\", \"new\", \"new\", \"new\", \"nice\", \"nice\", \"nice\", \"nice\", \"no-\", \"noadditional\", \"noadditional\", \"nodoe\", \"note\", \"note\", \"note\", \"now.additional\", \"nowarranty\", \"oil\", \"old\", \"old\", \"old\", \"one\", \"open\", \"open\", \"open\", \"opinion\", \"option\", \"order\", \"other\", \"outback\", \"outback\", \"package\", \"pad\", \"paper\", \"parent\", \"part\", \"part\", \"passing\", \"passport\", \"passport\", \"passport\", \"pathfinder\", \"person\", \"pick\", \"pilot\", \"pilot\", \"pleasure\", \"polo\", \"popular\", \"possible.minor\", \"preferable\", \"preferablycan\", \"preferred\", \"preferredi\", \"prelude\", \"prelude\", \"price\", \"price\", \"price\", \"pricey\", \"pro\", \"problem\", \"problem\", \"r\", \"r\", \"rack\", \"range\", \"rare\", \"rav4\", \"reason\", \"reliability\", \"reliability\", \"reliability\", \"reliable\", \"reliable\", \"replacement\", \"reputation\", \"road\", \"room\", \"rotor\", \"row\", \"s\", \"s\", \"sailboat\", \"sake\", \"same\", \"saving\", \"scion\", \"se\", \"seat\", \"seat\", \"seatbelt\", \"second\", \"second\", \"sedan\", \"sedan\", \"series\", \"series\", \"shaky\", \"si\", \"signature\", \"signature\", \"similar\", \"similar\", \"size\", \"size\", \"smal\", \"small\", \"small\", \"small\", \"small\", \"snow\", \"snowy\", \"solstice\", \"soul\", \"soul\", \"space\", \"spider\", \"spider\", \"sport\", \"sportback\", \"sportier\", \"square\", \"starter\", \"station\", \"steer\", \"stinger\", \"street\", \"stuff\", \"subaru\", \"subarus\", \"suburu\", \"such\", \"suggestion\", \"suggestion\", \"suggestion\", \"sure\", \"sure\", \"surf\", \"suv\", \"swing\", \"t\", \"t\", \"table\", \"tag\", \"tahoe\", \"tech\", \"terrain\", \"test\", \"test\", \"test\", \"tl\", \"tlx-\", \"ton\", \"tool\", \"top\", \"top\", \"touring\", \"touring\", \"touring\", \"toy\", \"tracker\", \"transm\", \"trim\", \"trim\", \"triumph\", \"tron\", \"tsx\", \"tsx\", \"tsx\", \"type\", \"uncomfortable\", \"unsure\", \"use\", \"variant\", \"variety\", \"various\", \"vehicle\", \"vehicle\", \"vehicle\", \"vehiclewarranty\", \"veloster\", \"veloster\", \"versatility\", \"version\", \"volkswagen\", \"volkswagen\", \"volkswagen\", \"volkswagon\", \"vs\", \"vtec\", \"vtec\", \"vue\", \"vw\", \"v\\u00e9hicule\", \"w\", \"wagon\", \"wagon\", \"warranty\", \"warranty\", \"warranty\", \"warranty\", \"way\", \"way\", \"weather\", \"whole\", \"wide\", \"wife\", \"wife\", \"work\", \"work\", \"year\", \"year\", \"year\", \"year\", \"yeswarranty\", \"yeswarranty\"]}, \"R\": 30, \"lambda.step\": 0.01, \"plot.opts\": {\"xlab\": \"PC1\", \"ylab\": \"PC2\"}, \"topic.order\": [3, 6, 2, 4, 8, 1, 5, 7]};\n",
              "\n",
              "function LDAvis_load_lib(url, callback){\n",
              "  var s = document.createElement('script');\n",
              "  s.src = url;\n",
              "  s.async = true;\n",
              "  s.onreadystatechange = s.onload = callback;\n",
              "  s.onerror = function(){console.warn(\"failed to load library \" + url);};\n",
              "  document.getElementsByTagName(\"head\")[0].appendChild(s);\n",
              "}\n",
              "\n",
              "if(typeof(LDAvis) !== \"undefined\"){\n",
              "   // already loaded: just create the visualization\n",
              "   !function(LDAvis){\n",
              "       new LDAvis(\"#\" + \"ldavis_el1031399909013039608335316950\", ldavis_el1031399909013039608335316950_data);\n",
              "   }(LDAvis);\n",
              "}else if(typeof define === \"function\" && define.amd){\n",
              "   // require.js is available: use it to load d3/LDAvis\n",
              "   require.config({paths: {d3: \"https://cdnjs.cloudflare.com/ajax/libs/d3/3.5.5/d3.min\"}});\n",
              "   require([\"d3\"], function(d3){\n",
              "      window.d3 = d3;\n",
              "      LDAvis_load_lib(\"https://cdn.rawgit.com/bmabey/pyLDAvis/files/ldavis.v1.0.0.js\", function(){\n",
              "        new LDAvis(\"#\" + \"ldavis_el1031399909013039608335316950\", ldavis_el1031399909013039608335316950_data);\n",
              "      });\n",
              "    });\n",
              "}else{\n",
              "    // require.js not available: dynamically load d3 & LDAvis\n",
              "    LDAvis_load_lib(\"https://cdnjs.cloudflare.com/ajax/libs/d3/3.5.5/d3.min.js\", function(){\n",
              "         LDAvis_load_lib(\"https://cdn.rawgit.com/bmabey/pyLDAvis/files/ldavis.v1.0.0.js\", function(){\n",
              "                 new LDAvis(\"#\" + \"ldavis_el1031399909013039608335316950\", ldavis_el1031399909013039608335316950_data);\n",
              "            })\n",
              "         });\n",
              "}\n",
              "</script>"
            ],
            "text/plain": [
              "PreparedData(topic_coordinates=              x         y  topics  cluster       Freq\n",
              "topic                                                \n",
              "2      0.189470 -0.015059       1        1  15.537196\n",
              "5     -0.132462 -0.075096       2        1  13.670248\n",
              "1     -0.024114  0.203450       3        1  13.546859\n",
              "3     -0.010642  0.086358       4        1  13.304307\n",
              "7      0.117844 -0.112184       5        1  12.489058\n",
              "0      0.108269 -0.054363       6        1  12.172490\n",
              "4     -0.047240  0.072641       7        1   9.942311\n",
              "6     -0.201126 -0.105747       8        1   9.337526, topic_info=         Term       Freq      Total Category  logprob  loglift\n",
              "4       civic  62.000000  62.000000  Default  30.0000  30.0000\n",
              "113     pilot  23.000000  23.000000  Default  29.0000  29.0000\n",
              "3        work  23.000000  23.000000  Default  28.0000  28.0000\n",
              "10     accord  28.000000  28.000000  Default  27.0000  27.0000\n",
              "43    vehicle  25.000000  25.000000  Default  26.0000  26.0000\n",
              "..        ...        ...        ...      ...      ...      ...\n",
              "254    lancer   0.843635   2.292851   Topic8  -4.9137   1.3713\n",
              "59      focus   0.843580   3.019918   Topic8  -4.9137   1.0958\n",
              "212      note   2.343610   8.461600   Topic8  -3.8919   1.0873\n",
              "9       model   2.343550  11.305365   Topic8  -3.8920   0.7975\n",
              "2    véhicule   0.094656   1.464834   Topic8  -7.1011  -0.3681\n",
              "\n",
              "[421 rows x 6 columns], token_table=      Topic      Freq         Term\n",
              "term                              \n",
              "408       3  0.881090            %\n",
              "33        4  0.111637            -\n",
              "33        5  0.781457            -\n",
              "33        7  0.111637            -\n",
              "378       1  0.683655         1.5i\n",
              "...     ...       ...          ...\n",
              "45        2  0.467140         year\n",
              "45        3  0.186856         year\n",
              "45        7  0.186856         year\n",
              "312       2  0.436138  yeswarranty\n",
              "312       8  0.436138  yeswarranty\n",
              "\n",
              "[475 rows x 3 columns], R=30, lambda_step=0.01, plot_opts={'xlab': 'PC1', 'ylab': 'PC2'}, topic_order=[3, 6, 2, 4, 8, 1, 5, 7])"
            ]
          },
          "metadata": {
            "tags": []
          },
          "execution_count": 96
        }
      ]
    },
    {
      "cell_type": "markdown",
      "metadata": {
        "id": "AFsgJ0sD5_g9"
      },
      "source": [
        "# Reference Links"
      ]
    },
    {
      "cell_type": "code",
      "metadata": {
        "id": "0y21Fz6FVxwY"
      },
      "source": [
        "### Want to filter on discussion entries\n",
        "# https://www.reddit.com/r/wallstreetbets/search?sort=top&q=flair%3ADD&restrict_sr=on&t=week\n",
        "\n",
        "### Reference\n",
        "# https://github.com/reddit-archive/reddit/wiki/OAuth2-Quick-Start-Example#first-steps\n",
        "\n",
        "### Links :)\n",
        "# https://www.reddit.com/search/?q=weekly%20what%20car%20should%20i%20buy"
      ],
      "execution_count": null,
      "outputs": []
    },
    {
      "cell_type": "code",
      "metadata": {
        "id": "RmaVqVC9uQkq"
      },
      "source": [
        "# https://datatofish.com/left-right-mid-pandas/\n",
        "\n",
        "# https://github.com/abhionlyone/us-car-models-data/blob/master/2013.csv\n",
        "\n",
        "# https://github.com/prateekjoshi565/topic_modeling_online_reviews/blob/master/Mining_Online_Reviews_using_Topic_Modeling_%28LDA%29.ipynb"
      ],
      "execution_count": null,
      "outputs": []
    },
    {
      "cell_type": "code",
      "metadata": {
        "id": "WZnufK3Rc8KO"
      },
      "source": [
        "# https://www.reddit.com/r/pushshift/comments/bcxguf/new_to_pushshift_read_this_faq/"
      ],
      "execution_count": null,
      "outputs": []
    }
  ]
}